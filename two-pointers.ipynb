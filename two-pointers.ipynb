{
 "cells": [
  {
   "cell_type": "markdown",
   "metadata": {},
   "source": [
    "# LC 125 (Easy): Valid Palindrome"
   ]
  },
  {
   "cell_type": "code",
   "execution_count": 18,
   "metadata": {},
   "outputs": [
    {
     "name": "stdout",
     "output_type": "stream",
     "text": [
      "True\n",
      "False\n",
      "True\n"
     ]
    }
   ],
   "source": [
    "def isPalindrome(s):\n",
    "    \"\"\"\n",
    "    :type s: str\n",
    "    :rtype: bool\n",
    "    \"\"\"\n",
    "    # Naive approach\n",
    "    # Two pointers from start and end\n",
    "    i = 0\n",
    "    j = len(s) - 1\n",
    "    while i < j:\n",
    "        while i < j and (not s[i].isalnum()):\n",
    "            i += 1\n",
    "        while j > i and (not s[j].isalnum()):\n",
    "            j -= 1\n",
    "        if s[i].lower() != s[j].lower():\n",
    "            return False\n",
    "        i += 1\n",
    "        j -= 1\n",
    "    return True\n",
    "        \n",
    "print(isPalindrome(\"A man, a plan, a canal: Panama\"))\n",
    "print(isPalindrome(\"race a car\"))\n",
    "print(isPalindrome(\" \"))"
   ]
  },
  {
   "cell_type": "markdown",
   "metadata": {},
   "source": [
    "# LC 15 (Medium): 3Sum"
   ]
  },
  {
   "cell_type": "code",
   "execution_count": 16,
   "metadata": {},
   "outputs": [
    {
     "name": "stdout",
     "output_type": "stream",
     "text": [
      "[(-1, -1, 2), (-1, 0, 1)]\n",
      "[]\n",
      "[(0, 0, 0)]\n",
      "[(0, 0, 0), (0, 0, 0)]\n"
     ]
    }
   ],
   "source": [
    "def threeSum(nums):\n",
    "    \"\"\"\n",
    "    :type nums: List[int]\n",
    "    :rtype: List[List[int]]\n",
    "    \"\"\"\n",
    "    # Naive approach\n",
    "    # For loops => O(n^3)\n",
    "    res = []\n",
    "    nums = sorted(nums)\n",
    "    for i in range(len(nums)):\n",
    "        for j in range(i + 1, len(nums)):\n",
    "            for k in range(j + 1, len(nums)):\n",
    "                if nums[i] + nums[j] + nums[k] == 0:\n",
    "                    res.append(tuple(sorted([nums[i], nums[j], nums[k]])))\n",
    "    # Remove duplicate triplets in res\n",
    "    dup = set()\n",
    "    \n",
    "    for e in res:\n",
    "        if e in dup:\n",
    "            res.\n",
    "        else:\n",
    "            dup.add(e)\n",
    "                \n",
    "    return res\n",
    "\n",
    "    # NeetCode solution\n",
    "    # res = []\n",
    "    #     nums.sort()\n",
    "\n",
    "    #     for i, a in enumerate(nums):\n",
    "    #         if i > 0 and a == nums[i - 1]:\n",
    "    #             continue\n",
    "\n",
    "    #         l, r = i + 1, len(nums) - 1\n",
    "    #         while l < r:\n",
    "    #             threeSum = a + nums[l] + nums[r]\n",
    "    #             if threeSum > 0:\n",
    "    #                 r -= 1\n",
    "    #             elif threeSum < 0:\n",
    "    #                 l += 1\n",
    "    #             else:\n",
    "    #                 res.append([a, nums[l], nums[r]])\n",
    "    #                 l += 1\n",
    "    #                 while nums[l] == nums[l - 1] and l < r:\n",
    "    #                     l += 1\n",
    "    #     return res\n",
    "\n",
    "print(threeSum([-1,0,1,2,-1,-4]))\n",
    "print(threeSum([0,1,1]))\n",
    "print(threeSum([0,0,0]))"
   ]
  }
 ],
 "metadata": {
  "kernelspec": {
   "display_name": "Python 3.10.6 64-bit",
   "language": "python",
   "name": "python3"
  },
  "language_info": {
   "codemirror_mode": {
    "name": "ipython",
    "version": 3
   },
   "file_extension": ".py",
   "mimetype": "text/x-python",
   "name": "python",
   "nbconvert_exporter": "python",
   "pygments_lexer": "ipython3",
   "version": "3.10.6"
  },
  "orig_nbformat": 4,
  "vscode": {
   "interpreter": {
    "hash": "a966c27b3d680403ea4acd6dd7a09b1d0efcb58eb4fa7c4710983a6bd2e79ef0"
   }
  }
 },
 "nbformat": 4,
 "nbformat_minor": 2
}
