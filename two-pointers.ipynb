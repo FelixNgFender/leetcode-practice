{
 "cells": [
  {
   "cell_type": "markdown",
   "metadata": {},
   "source": [
    "# LC 125 (Easy): Valid Palindrome"
   ]
  },
  {
   "cell_type": "code",
   "execution_count": 18,
   "metadata": {},
   "outputs": [
    {
     "name": "stdout",
     "output_type": "stream",
     "text": [
      "True\n",
      "False\n",
      "True\n"
     ]
    }
   ],
   "source": [
    "def isPalindrome(s):\n",
    "    \"\"\"\n",
    "    :type s: str\n",
    "    :rtype: bool\n",
    "    \"\"\"\n",
    "    # Naive approach\n",
    "    # Two pointers from start and end\n",
    "    i = 0\n",
    "    j = len(s) - 1\n",
    "    while i < j:\n",
    "        while i < j and (not s[i].isalnum()):\n",
    "            i += 1\n",
    "        while j > i and (not s[j].isalnum()):\n",
    "            j -= 1\n",
    "        if s[i].lower() != s[j].lower():\n",
    "            return False\n",
    "        i += 1\n",
    "        j -= 1\n",
    "    return True\n",
    "        \n",
    "print(isPalindrome(\"A man, a plan, a canal: Panama\"))\n",
    "print(isPalindrome(\"race a car\"))\n",
    "print(isPalindrome(\" \"))"
   ]
  },
  {
   "cell_type": "markdown",
   "metadata": {},
   "source": [
    "# LC 15 (Medium): 3Sum"
   ]
  },
  {
   "cell_type": "code",
   "execution_count": 49,
   "metadata": {},
   "outputs": [
    {
     "name": "stdout",
     "output_type": "stream",
     "text": [
      "[[-1, -1, 2], [-1, 0, 1]]\n",
      "[]\n",
      "[[0, 0, 0]]\n"
     ]
    }
   ],
   "source": [
    "def threeSum(nums):\n",
    "    \"\"\"\n",
    "    :type nums: List[int]\n",
    "    :rtype: List[List[int]]\n",
    "    \"\"\"\n",
    "    # Naive approach: 2Sum + 1 pointer => O(n^2)\n",
    "    # def twoSums(target, nums):\n",
    "    #     res = []\n",
    "    #     diffToIndex = {}\n",
    "    #     for index, num in enumerate(nums):\n",
    "    #         if num not in diffToIndex:\n",
    "    #             diffToIndex[target - num] = index\n",
    "    #         else:\n",
    "    #             res.append([num, nums[diffToIndex.get(num)]])\n",
    "    #     return res\n",
    "        \n",
    "    # res = []\n",
    "    # for i, num in enumerate(nums):\n",
    "    #     allButPointer = nums[i + 1:]\n",
    "    #     sums = twoSums(0 - num, allButPointer)\n",
    "    #     for sum in sums:\n",
    "    #         sum.append(num)\n",
    "    #         sum = sorted(sum)\n",
    "    #         if sum not in res:\n",
    "    #             res.append(sum)\n",
    "    # return res\n",
    "\n",
    "    # NeetCode solution: Same but optimize with sorting\n",
    "    # Triplets that start with one number already cannot \n",
    "    # start with that number again\n",
    "    res = []\n",
    "    nums.sort()\n",
    "\n",
    "    for i, a in enumerate(nums):\n",
    "        if i > 0 and a == nums[i - 1]:\n",
    "            continue\n",
    "        l, r = i + 1, len(nums) - 1\n",
    "        while l < r:\n",
    "            threeSum = a + nums[l] + nums[r]\n",
    "            if threeSum > 0:\n",
    "                r -= 1\n",
    "            elif threeSum < 0:\n",
    "                l += 1\n",
    "            else:\n",
    "                res.append([a, nums[l], nums[r]])\n",
    "                l += 1\n",
    "                while nums[l] == nums[l - 1] and l < r:\n",
    "                    l += 1\n",
    "    return res\n",
    "\n",
    "print(threeSum([-1,0,1,2,-1,-4]))\n",
    "print(threeSum([0,1,1]))\n",
    "print(threeSum([0,0,0]))"
   ]
  },
  {
   "attachments": {},
   "cell_type": "markdown",
   "metadata": {},
   "source": [
    "# LC 11: Container With Most Water"
   ]
  },
  {
   "cell_type": "code",
   "execution_count": 3,
   "metadata": {},
   "outputs": [
    {
     "name": "stdout",
     "output_type": "stream",
     "text": [
      "49\n",
      "1\n"
     ]
    }
   ],
   "source": [
    "def maxArea(height):\n",
    "    \"\"\"\n",
    "    :type height: List[int]\n",
    "    :rtype: int\n",
    "    \"\"\"\n",
    "    # Naive approach: If left > right, we move the right pointer so maximize \n",
    "    # the chance of finding new, larger areas\n",
    "    l, r = 0, len(height) - 1\n",
    "    maxArea = 0\n",
    "    while l < r:\n",
    "        area = min(height[l], height[r]) * (r - l)\n",
    "        maxArea = max(maxArea, area)\n",
    "        if height[l] > height[r]:\n",
    "            r -= 1\n",
    "        else:\n",
    "            l += 1\n",
    "    return maxArea\n",
    "\n",
    "print(maxArea([1,8,6,2,5,4,8,3,7]))\n",
    "print(maxArea([1,1]))"
   ]
  }
 ],
 "metadata": {
  "kernelspec": {
   "display_name": "virtualenv",
   "language": "python",
   "name": "python3"
  },
  "language_info": {
   "codemirror_mode": {
    "name": "ipython",
    "version": 3
   },
   "file_extension": ".py",
   "mimetype": "text/x-python",
   "name": "python",
   "nbconvert_exporter": "python",
   "pygments_lexer": "ipython3",
   "version": "3.10.6 (tags/v3.10.6:9c7b4bd, Aug  1 2022, 21:53:49) [MSC v.1932 64 bit (AMD64)]"
  },
  "orig_nbformat": 4,
  "vscode": {
   "interpreter": {
    "hash": "87e8a8a6ee61a408620d8fe1e3b8b31ef30b072e2d571e2bcd6e7abc56af6d67"
   }
  }
 },
 "nbformat": 4,
 "nbformat_minor": 2
}
