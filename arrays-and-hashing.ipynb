{
 "cells": [
  {
   "cell_type": "markdown",
   "metadata": {},
   "source": [
    "# LC 217 (Easy). Contains Duplicate"
   ]
  },
  {
   "cell_type": "code",
   "execution_count": 28,
   "metadata": {},
   "outputs": [
    {
     "name": "stdout",
     "output_type": "stream",
     "text": [
      "True\n",
      "False\n",
      "True\n"
     ]
    }
   ],
   "source": [
    "def containsDuplicate(nums):\n",
    "    \"\"\"\n",
    "    :type nums: List[int]\n",
    "    :rtype: bool\n",
    "    \"\"\"\n",
    "    # Naive approach: O(n^2)\n",
    "    # 2 collapsing for loops checking for equal elements\n",
    "\n",
    "    # if len(nums) == 1: \n",
    "    #     return False\n",
    "    # for index, i in enumerate(nums[0:-1]):\n",
    "    #     for j in nums[index+1:]:\n",
    "    #         if i == j:\n",
    "    #             return True\n",
    "    # return False\n",
    "\n",
    "    # Optimization\n",
    "    # Approach 1: HashSet => O(n)\n",
    "    mySet = set()\n",
    "    for num in nums:\n",
    "        if num in mySet:\n",
    "            return True\n",
    "        mySet.add(num)\n",
    "    return False\n",
    "\n",
    "print(containsDuplicate([1, 2, 3, 1]))\n",
    "print(containsDuplicate([1,2,3,4]))\n",
    "print(containsDuplicate([1,1,1,3,3,4,3,2,4,2]))"
   ]
  },
  {
   "cell_type": "markdown",
   "metadata": {},
   "source": [
    "# LC 242 (Easy). Valid Anagram"
   ]
  },
  {
   "cell_type": "code",
   "execution_count": 8,
   "metadata": {},
   "outputs": [
    {
     "name": "stdout",
     "output_type": "stream",
     "text": [
      "True\n",
      "False\n"
     ]
    }
   ],
   "source": [
    "def isAnagram(s, t):\n",
    "    \"\"\"\n",
    "    :type s: str\n",
    "    :type t: str\n",
    "    :rtype: bool\n",
    "    \"\"\"\n",
    "    # Naive approach: O(m.n)\n",
    "    # Frequency tables for unique characters\n",
    "    sSplitted, tSplitted = [char for char in s], [char for char in t]\n",
    "    sDict, tDict = {}, {}\n",
    "    # Create frequency tables for the chars\n",
    "    for sChar in sSplitted:\n",
    "        if (sChar in sDict):\n",
    "            sDict[sChar] += 1\n",
    "        else:\n",
    "            sDict[sChar] = 1\n",
    "    for tChar in tSplitted:\n",
    "        if (tChar in tDict):\n",
    "            tDict[tChar] += 1\n",
    "        else:\n",
    "            tDict[tChar] = 1\n",
    "    # Loop through both tables to see if they match\n",
    "    for key in sDict.keys():\n",
    "        if (key not in tDict.keys()) or (sDict[key] != tDict[key]):\n",
    "            return False\n",
    "    # Last check to see if there is any char in s that is\n",
    "    # not in t\n",
    "    return len(sDict.keys()) == len(tDict.keys())\n",
    "\n",
    "    # NeetCode solution: similar\n",
    "    # if len(s) != len(t):\n",
    "    #         return False\n",
    "\n",
    "    # countS, countT = {}, {}\n",
    "    \n",
    "    # for i in range(len(s)):\n",
    "    #     countS[s[i]] = 1 + countS.get(s[i], 0)\n",
    "    #     countT[t[i]] = 1 + countT.get(t[i], 0)\n",
    "    # return countS == countT # Surprisingly, you can compare Python dicts\n",
    "\n",
    "print(isAnagram(\"anagram\", \"nagaram\"))\n",
    "print(isAnagram(\"rat\", \"car\"))"
   ]
  },
  {
   "cell_type": "markdown",
   "metadata": {},
   "source": [
    "# LC 1 (Easy). Two Sum"
   ]
  },
  {
   "cell_type": "code",
   "execution_count": 22,
   "metadata": {},
   "outputs": [
    {
     "name": "stdout",
     "output_type": "stream",
     "text": [
      "[0, 1]\n",
      "[1, 2]\n",
      "[0, 1]\n"
     ]
    }
   ],
   "source": [
    "def twoSum(nums, target):\n",
    "    \"\"\"\n",
    "    :type nums: List[int]\n",
    "    :type target: int\n",
    "    :rtype: List[int]\n",
    "    \"\"\"\n",
    "    # Naive approach: O(n^2)\n",
    "    # Nested for loops\n",
    "    # for i in range(len(nums) - 1):\n",
    "    #     for j in range(i + 1, len(nums)):\n",
    "    #         if nums[i] + nums[j] == target:\n",
    "    #             return [i, j]\n",
    "\n",
    "    # Optimization\n",
    "    # Approach 1: HashSet => O(n)\n",
    "    for i in range(len(nums) - 1):\n",
    "        significantOther = target - nums[i]\n",
    "        if significantOther in set(nums[i + 1:]):\n",
    "            return [i, nums[i + 1:].index(significantOther) + i + 1]\n",
    "\n",
    "    # NeetCode solution: HashMap => O(n)\n",
    "    # prevMap = {}  # val -> index\n",
    "    # for i, n in enumerate(nums):\n",
    "    #     diff = target - n\n",
    "    #     if diff in prevMap:\n",
    "    #         return [prevMap[diff], i]\n",
    "    #     prevMap[n] = i\n",
    "\n",
    "print(twoSum([2,7,11,15], 9))\n",
    "print(twoSum([3,2,4], 6))\n",
    "print(twoSum([3,3], 6))"
   ]
  },
  {
   "cell_type": "markdown",
   "metadata": {},
   "source": [
    "# LC 49 (Medium). Group Anagrams"
   ]
  },
  {
   "cell_type": "code",
   "execution_count": 7,
   "metadata": {},
   "outputs": [
    {
     "name": "stdout",
     "output_type": "stream",
     "text": [
      "[['eat', 'tea', 'ate'], ['tan', 'nat'], ['bat']]\n",
      "[['']]\n",
      "[['a']]\n"
     ]
    }
   ],
   "source": [
    "from collections import defaultdict\n",
    "\n",
    "def groupAnagrams(strs):\n",
    "    \"\"\"\n",
    "    :type strs: List[str]\n",
    "    :rtype: List[List[str]]\n",
    "    \"\"\"\n",
    "    # Naive approach\n",
    "    # Create a frequency table for each word \n",
    "    # in strs and compare them\n",
    "    # anagrams, freqTables = [], []\n",
    "    \n",
    "    # def extractChar(str):\n",
    "    #     freqTable = {}\n",
    "    #     for char in str:\n",
    "    #         if char in freqTable:\n",
    "    #             freqTable[char] += 1\n",
    "    #         else:\n",
    "    #             freqTable[char] = 1\n",
    "    #     return freqTable\n",
    "    \n",
    "    # for str in strs:\n",
    "    #     freqTables.append(extractChar(str))\n",
    "    \n",
    "    # while strs:\n",
    "    #     workStr = strs.pop()\n",
    "    #     id = freqTables.pop() \n",
    "        \n",
    "    #     anagramSubGroup = []\n",
    "    #     anagramSubGroup.append(workStr)\n",
    "\n",
    "    #     for j in range(len(strs) - 1, -1, -1):\n",
    "    #         if id == freqTables[j]:\n",
    "    #             anagramSubGroup.append(strs.pop(j))\n",
    "    #             freqTables.pop(j)\n",
    "        \n",
    "    #     anagrams.append(anagramSubGroup)\n",
    "    \n",
    "    # return anagrams\n",
    "\n",
    "    # NeetCode solution: Also use HashMap => O(m * n)\n",
    "    # But use a frequency table (array) and \n",
    "    # list of str as key and value\n",
    "    # Frequency table in the form of an array:\n",
    "    # Since we only use a-z, index 0-25\n",
    "    # corresponds with those. Value at index\n",
    "    # indicates frequency\n",
    "    anagrams = defaultdict(list) # mapping charCount to list of Anagrams\n",
    "    \n",
    "    for str in strs:\n",
    "        count = [0] * 26 # a...z\n",
    "        for char in str:\n",
    "            count[ord(char) - ord(\"a\")] += 1\n",
    "        anagrams[tuple(count)].append(str)\n",
    "    return list(anagrams.values())\n",
    "\n",
    "    \n",
    "\n",
    "print(groupAnagrams([\"eat\",\"tea\",\"tan\",\"ate\",\"nat\",\"bat\"]))\n",
    "print(groupAnagrams([\"\"]))\n",
    "print(groupAnagrams([\"a\"]))"
   ]
  }
 ],
 "metadata": {
  "kernelspec": {
   "display_name": "Python 3.10.6 64-bit",
   "language": "python",
   "name": "python3"
  },
  "language_info": {
   "codemirror_mode": {
    "name": "ipython",
    "version": 3
   },
   "file_extension": ".py",
   "mimetype": "text/x-python",
   "name": "python",
   "nbconvert_exporter": "python",
   "pygments_lexer": "ipython3",
   "version": "3.10.6"
  },
  "orig_nbformat": 4,
  "vscode": {
   "interpreter": {
    "hash": "a966c27b3d680403ea4acd6dd7a09b1d0efcb58eb4fa7c4710983a6bd2e79ef0"
   }
  }
 },
 "nbformat": 4,
 "nbformat_minor": 2
}
