{
 "cells": [
  {
   "cell_type": "markdown",
   "metadata": {},
   "source": [
    "# Day 1"
   ]
  },
  {
   "cell_type": "code",
   "execution_count": 18,
   "metadata": {},
   "outputs": [
    {
     "name": "stdout",
     "output_type": "stream",
     "text": [
      "67027\n"
     ]
    }
   ],
   "source": [
    "with open('day1-puzzle1-input.txt') as f:\n",
    "    lines = f.readlines()\n",
    "    currMax, curr = 0, 0\n",
    "    for line in lines:\n",
    "        if line == '\\n':\n",
    "            curr = 0\n",
    "        else:\n",
    "            curr += int(line)\n",
    "            if curr > currMax:\n",
    "                currMax = curr\n",
    "    print(currMax)"
   ]
  },
  {
   "cell_type": "code",
   "execution_count": 36,
   "metadata": {},
   "outputs": [
    {
     "name": "stdout",
     "output_type": "stream",
     "text": [
      "197291\n"
     ]
    }
   ],
   "source": [
    "import heapq\n",
    "from heapq import heappush, heappop\n",
    "\n",
    "with open('day1-puzzle1-input.txt') as f:\n",
    "    lines = f.readlines()\n",
    "    heap = []\n",
    "    curr = 0\n",
    "    for line in lines:\n",
    "        if line == '\\n':\n",
    "            heappush(heap, -1 * curr)\n",
    "            curr = 0\n",
    "        else:\n",
    "            curr += int(line)\n",
    "    res = 0\n",
    "    for i in range(3):\n",
    "        res += -1 * heappop(heap)\n",
    "    print(res)"
   ]
  },
  {
   "cell_type": "markdown",
   "metadata": {},
   "source": [
    "# Day 2"
   ]
  },
  {
   "cell_type": "code",
   "execution_count": null,
   "metadata": {},
   "outputs": [],
   "source": []
  }
 ],
 "metadata": {
  "kernelspec": {
   "display_name": "Python 3.10.6 ('virtualenv': venv)",
   "language": "python",
   "name": "python3"
  },
  "language_info": {
   "codemirror_mode": {
    "name": "ipython",
    "version": 3
   },
   "file_extension": ".py",
   "mimetype": "text/x-python",
   "name": "python",
   "nbconvert_exporter": "python",
   "pygments_lexer": "ipython3",
   "version": "3.10.6"
  },
  "orig_nbformat": 4,
  "vscode": {
   "interpreter": {
    "hash": "87e8a8a6ee61a408620d8fe1e3b8b31ef30b072e2d571e2bcd6e7abc56af6d67"
   }
  }
 },
 "nbformat": 4,
 "nbformat_minor": 2
}
