{
 "cells": [
  {
   "cell_type": "markdown",
   "metadata": {},
   "source": [
    "# Day 1"
   ]
  },
  {
   "cell_type": "code",
   "execution_count": 1,
   "metadata": {},
   "outputs": [
    {
     "name": "stdout",
     "output_type": "stream",
     "text": [
      "67027\n"
     ]
    }
   ],
   "source": [
    "with open('day1-input.txt') as f:\n",
    "    lines = f.readlines()\n",
    "    currMax, curr = 0, 0\n",
    "    for line in lines:\n",
    "        if line == '\\n':\n",
    "            curr = 0\n",
    "        else:\n",
    "            curr += int(line)\n",
    "            if curr > currMax:\n",
    "                currMax = curr\n",
    "    print(currMax)"
   ]
  },
  {
   "cell_type": "code",
   "execution_count": 2,
   "metadata": {},
   "outputs": [
    {
     "name": "stdout",
     "output_type": "stream",
     "text": [
      "197291\n"
     ]
    }
   ],
   "source": [
    "import heapq\n",
    "from heapq import heappush, heappop\n",
    "\n",
    "with open('day1-input.txt') as f:\n",
    "    lines = f.readlines()\n",
    "    heap = []\n",
    "    curr = 0\n",
    "    for line in lines:\n",
    "        if line == '\\n':\n",
    "            heappush(heap, -1 * curr)\n",
    "            curr = 0\n",
    "        else:\n",
    "            curr += int(line)\n",
    "    res = 0\n",
    "    for i in range(3):\n",
    "        res += -1 * heappop(heap)\n",
    "    print(res)"
   ]
  },
  {
   "cell_type": "markdown",
   "metadata": {},
   "source": [
    "# Day 2"
   ]
  },
  {
   "cell_type": "code",
   "execution_count": 3,
   "metadata": {},
   "outputs": [
    {
     "name": "stdout",
     "output_type": "stream",
     "text": [
      "13565\n"
     ]
    }
   ],
   "source": [
    "RPSDict = {\n",
    "        'A' : 'R',\n",
    "        'B' : 'P',\n",
    "        'C' : 'S',\n",
    "        'X' : 'R',\n",
    "        'Y' : 'P',\n",
    "        'Z' : 'S',\n",
    "        }\n",
    "\n",
    "def shapeBonus(line):\n",
    "    match line[2]:\n",
    "        case 'X':\n",
    "            return 1\n",
    "        case 'Y':\n",
    "            return 2\n",
    "        case 'Z':\n",
    "            return 3\n",
    "\n",
    "def winBonus(line):    \n",
    "    decoded = decode(line)\n",
    "    if decoded[0] == decoded[2]:\n",
    "        return 3\n",
    "    elif decoded[0] == 'R':\n",
    "        match decoded[2]:\n",
    "            case 'P':\n",
    "                return 6\n",
    "            case 'S':\n",
    "                return 0\n",
    "    elif decoded[0] == 'P':\n",
    "        match decoded[2]:\n",
    "            case 'R':\n",
    "                return 0\n",
    "            case 'S':\n",
    "                return 6\n",
    "    else:\n",
    "        match decoded[2]:\n",
    "            case 'R':\n",
    "                return 6\n",
    "            case 'P':\n",
    "                return 0\n",
    "        \n",
    "def decode(line):\n",
    "    return RPSDict[line[0]] + ' ' + RPSDict[line[2]]\n",
    "\n",
    "with open('day2-input.txt') as f:\n",
    "    lines = f.readlines()\n",
    "    score = 0\n",
    "    for line in lines:\n",
    "        score += winBonus(line) + shapeBonus(line)\n",
    "    print(score)"
   ]
  },
  {
   "cell_type": "code",
   "execution_count": 4,
   "metadata": {},
   "outputs": [
    {
     "name": "stdout",
     "output_type": "stream",
     "text": [
      "12424\n"
     ]
    }
   ],
   "source": [
    "secretDict = {\n",
    "    'X' : 0,\n",
    "    'Y' : 3,\n",
    "    'Z' : 6,\n",
    "}\n",
    "\n",
    "def weaponBonus(opponent, result):\n",
    "    if opponent == 'R':\n",
    "        match result:\n",
    "            case 0:\n",
    "                return 3\n",
    "            case 3:\n",
    "                return 1\n",
    "            case 6:\n",
    "                return 2\n",
    "    elif opponent == 'P':\n",
    "        match result:\n",
    "            case 0:\n",
    "                return 1\n",
    "            case 3:\n",
    "                return 2\n",
    "            case 6:\n",
    "                return 3\n",
    "    else:\n",
    "        match result:\n",
    "            case 0:\n",
    "                return 2\n",
    "            case 3:\n",
    "                return 3\n",
    "            case 6:\n",
    "                return 1\n",
    "             \n",
    "with open('day2-input.txt') as f:\n",
    "    lines = f.readlines()\n",
    "    score = 0\n",
    "    for line in lines:\n",
    "        opponent = RPSDict[line[0]]\n",
    "        result = secretDict[line[2]]\n",
    "        score += weaponBonus(opponent, result) + result\n",
    "    print(score)"
   ]
  },
  {
   "cell_type": "markdown",
   "metadata": {},
   "source": [
    "# Day 3"
   ]
  },
  {
   "cell_type": "code",
   "execution_count": 5,
   "metadata": {},
   "outputs": [
    {
     "name": "stdout",
     "output_type": "stream",
     "text": [
      "8105\n"
     ]
    }
   ],
   "source": [
    "with open('day3-input.txt') as f:\n",
    "    lines = f.readlines()\n",
    "    priorities = [0 for _ in range(52)]\n",
    "    res = 0\n",
    "    for line in lines:\n",
    "        length = len(line)\n",
    "        firstCompartment = line[0 : length//2]\n",
    "        secondCompartment = line[length//2:]\n",
    "        queue = set([item for item in firstCompartment])\n",
    "        for item in secondCompartment:\n",
    "            if item in queue:\n",
    "                # ord('A') < ord('a')\n",
    "                if ord(item) >= ord('a'):\n",
    "                    priorities[ord(item) - ord('a')] += 1\n",
    "                else:\n",
    "                    priorities[ord(item) - ord('A') + 26] += 1\n",
    "                break\n",
    "\n",
    "    # Sum of the priorities\n",
    "    for i, e in enumerate(priorities):\n",
    "        if e != 0:\n",
    "            res += (i + 1) * e\n",
    "    print(res)"
   ]
  },
  {
   "cell_type": "code",
   "execution_count": 6,
   "metadata": {},
   "outputs": [
    {
     "name": "stdout",
     "output_type": "stream",
     "text": [
      "2363\n"
     ]
    }
   ],
   "source": [
    "with open('day3-input.txt') as f:\n",
    "    lines = f.readlines()\n",
    "    priorities = [0 for _ in range(52)]\n",
    "    res = 0\n",
    "    for i in range(0, len(lines) - 2, 3):\n",
    "        firstElf = lines[i]\n",
    "        secondElf = lines[i + 1]\n",
    "        thirdElf = lines[i + 2]\n",
    "        myFirstSet = set([item for item in firstElf])\n",
    "        mySecondSet = set([item for item in secondElf])\n",
    "        for item in thirdElf:\n",
    "            if (item in myFirstSet) and (item in mySecondSet):\n",
    "                # ord('A') < ord('a')\n",
    "                if ord(item) >= ord('a'):\n",
    "                    priorities[ord(item) - ord('a')] += 1\n",
    "                else:\n",
    "                    priorities[ord(item) - ord('A') + 26] += 1\n",
    "                break\n",
    "\n",
    "    # Sum of the priorities\n",
    "    for i, e in enumerate(priorities):\n",
    "        if e != 0:\n",
    "            res += (i + 1) * e\n",
    "    print(res)"
   ]
  },
  {
   "cell_type": "markdown",
   "metadata": {},
   "source": [
    "# Day 4"
   ]
  },
  {
   "cell_type": "code",
   "execution_count": 7,
   "metadata": {},
   "outputs": [
    {
     "name": "stdout",
     "output_type": "stream",
     "text": [
      "534\n"
     ]
    }
   ],
   "source": [
    "with open('day4-input.txt') as f:\n",
    "    lines = f.readlines()\n",
    "    count = 0\n",
    "    for line in lines:\n",
    "        firstElf = line[0 : line.find(',')]\n",
    "        secondElf = line[line.find(',') + 1:]\n",
    "        firstLow = int(firstElf[0 : firstElf.find('-')])\n",
    "        firstHigh = int(firstElf[firstElf.find('-') + 1:])\n",
    "        secondLow = int(secondElf[0 : secondElf.find('-')])\n",
    "        secondHigh = int(secondElf[secondElf.find('-') + 1:])\n",
    "        if (firstLow <= secondLow and secondHigh <= firstHigh) or (secondLow <= firstLow and firstHigh <= secondHigh):\n",
    "            count += 1\n",
    "    print(count)"
   ]
  },
  {
   "cell_type": "code",
   "execution_count": 8,
   "metadata": {},
   "outputs": [
    {
     "name": "stdout",
     "output_type": "stream",
     "text": [
      "841\n"
     ]
    }
   ],
   "source": [
    "with open('day4-input.txt') as f:\n",
    "    lines = f.readlines()\n",
    "    count = 0\n",
    "    for line in lines:\n",
    "        firstElf = line[0 : line.find(',')]\n",
    "        secondElf = line[line.find(',') + 1:]\n",
    "        firstLow = int(firstElf[0 : firstElf.find('-')])\n",
    "        firstHigh = int(firstElf[firstElf.find('-') + 1:])\n",
    "        secondLow = int(secondElf[0 : secondElf.find('-')])\n",
    "        secondHigh = int(secondElf[secondElf.find('-') + 1:])\n",
    "        if not (firstHigh < secondLow or secondHigh < firstLow):\n",
    "            count += 1\n",
    "        \n",
    "    print(count)"
   ]
  },
  {
   "cell_type": "markdown",
   "metadata": {},
   "source": [
    "# Day 5"
   ]
  },
  {
   "cell_type": "code",
   "execution_count": 9,
   "metadata": {},
   "outputs": [
    {
     "name": "stdout",
     "output_type": "stream",
     "text": [
      "CWMTGHBDW\n"
     ]
    }
   ],
   "source": [
    "with open('day5-input.txt') as f:\n",
    "    lines = f.readlines()\n",
    "    # Create 9 stacks\n",
    "    stacks = [[] for _ in range(9)] # 0-based numbering\n",
    "    for line in lines[: 8]:\n",
    "        indexes = [index for index, char in enumerate(line) if char == '[']\n",
    "        for row in indexes:\n",
    "            crate = line[row + 1]\n",
    "            stackNum = row // 4 # 0-based numbering\n",
    "            stacks[stackNum].insert(0, crate)\n",
    "    for line in lines[10:]:\n",
    "        numCrate = int(line[5 : line.find('from')])\n",
    "        startStack = int(line[line.find('from') + 5 : line.find('to')]) - 1 # 0-based numbering\n",
    "        endStack = int(line[line.find('to') + 3:]) - 1 # 0-based numbering\n",
    "        for i in range(numCrate):\n",
    "            c = stacks[startStack].pop()\n",
    "            stacks[endStack].append(c)\n",
    "    res = ''\n",
    "    for stack in stacks:\n",
    "        res += stack[-1]\n",
    "    print(res)"
   ]
  },
  {
   "cell_type": "code",
   "execution_count": 10,
   "metadata": {},
   "outputs": [
    {
     "name": "stdout",
     "output_type": "stream",
     "text": [
      "SSCGWJCRB\n"
     ]
    }
   ],
   "source": [
    "with open('day5-input.txt') as f:\n",
    "    lines = f.readlines()\n",
    "    # Create 9 stacks\n",
    "    stacks = [[] for _ in range(9)] # 0-based numbering\n",
    "    for line in lines[: 8]:\n",
    "        indexes = [index for index, char in enumerate(line) if char == '[']\n",
    "        for row in indexes:\n",
    "            crate = line[row + 1]\n",
    "            stackNum = row // 4 # 0-based numbering\n",
    "            stacks[stackNum].insert(0, crate)\n",
    "    for line in lines[10:]:\n",
    "        numCrate = int(line[5 : line.find('from')])\n",
    "        startStack = int(line[line.find('from') + 5 : line.find('to')]) - 1 # 0-based numbering\n",
    "        endStack = int(line[line.find('to') + 3:]) - 1 # 0-based numbering\n",
    "        crates = stacks[startStack][-numCrate:]\n",
    "        for i in range(numCrate):\n",
    "            stacks[startStack].pop()\n",
    "        stacks[endStack].extend(crates)\n",
    "    res = ''\n",
    "    for stack in stacks:\n",
    "        res += stack[-1]\n",
    "    print(res)"
   ]
  },
  {
   "cell_type": "markdown",
   "metadata": {},
   "source": [
    "# Day 6"
   ]
  },
  {
   "cell_type": "code",
   "execution_count": 11,
   "metadata": {},
   "outputs": [
    {
     "name": "stdout",
     "output_type": "stream",
     "text": [
      "mqllsjlslffbqbsbpbcbdbfbfvbfblfltffpddsmmhjmjvmvsmvvjfvfjjfccblbddhrdhrrlcrllrrswwlpwlwwgrglrgllrrlsshffrwfwcffmrrdfdrrncrnnlvllbsbcbwcchsshsrhhbnhbbqbmmmfdfvvqpqlpqppfgpfgpfpfttwrwwwfmfpfpmmpgglwglgfgsfgsggdllfhhmchmhttlhlchhrzrszsqqqzdzrrbbpgpccmfcmcbcdcrdrzzvjjgjfgfqfcqffvbbjbjbjsbjjbhjjzjlzjznzbbjvvpssdfdvffssrffpzfppsddgwgzgccrmrmdrrzpzbbjlbjlbjbgjbjmmtmllqffpjfppzzztfzfzfmfnndmdtmmhgmmsdshdhppbnpnbpnpdndgdbdwdtwwzqqjwjpphnnjddlglzlczzdpdjdjtjtgtqtptrrbqqqspsfswsdwdjdsdcdllpzpqplqqjnjrnnvrrnrccnwnnsttqzqcqppvmvdmdjjpnppljppptpzzwbwrrqgqhghshlslblflhflfbbwhwlhwhbwbdwbdwwzlwzwhzwznwwmmrddlttdrtrsttqbqtqtdqttqwwglwlbbdmbmcbbwbnbtbmbggdqqnhqqptpdtttvcvmvmdmtdttcwclccjcrctcllrprlrqqzqccttgnntstrtqqtfthtghhvcczhhctclljcljlcjcdjcdchhmjmjjrsjszjszsbsqqpfflqffqvfqvqjjnjtthvvvcjcjrcjclcwcrcrjcrchrcrggcjjpjjbwjbwjbwjwsjjrssfggzbgzgzrzmrmwmrrczcppnmnmzzgtglljlhjlhhgzgtgddrrhvvvlhlwhlhzzgzfgzzbvbvrvllplnlqnnfvnvgvdgvddsdqsdscscjjjvrvpptgpgdgtdtdzdtztfzfszfftjftfmftmtftddjzdzssfllfsllpwpwswrwdrwrcclczlclpccdrrftrftrtltftnftfnfrnfrfgfjfttrsrqsshlhdhnnztntwwnwppwbbmrbbtntznzggthghfggttpnpnpbplpvvpmmpwmbgcpwgsfndbrclcwbdcfhlcqblplglnqpnrpjqbddfqlqvbzrtwbwzvwqntcgmzrzztlffzmfmcmfzrmcvfctmlrlbtbpsgddbqrlblsslsbcmcglzdzjzlpgzprbrmfmlzrssqddzfjzfgbpvdgrrnldmtqgtjppqqwtzbltpfgpqtdqpwhbbwblnvvpmnljdghwrbnphswhgcvhpcplbbmwprznzzwnfntfplscpflhwdmlvfwtgrjhchnmnqbfgvsglllnnzwchqtcrvqzzhttcmblcthqrjdbvpwptcqtsnwrnfbbsqlshhtqdvcfcgdlbgzqjvzvglbcdwzpzttjnsvwrdldcqqstnnfnjthncgfvggphgfgstnmvnbmtvhpmsgmrccmmslqmjfzdjnbcjbjnpmsnvmzrphhjrdrrssnclvwbnzvpccqglnpljdtwrlnvpqzlshpcmfnmrjchqvlmthqbdrlnnpwcmfnwfzpbpnrsdmrqgqsjgwttwhgqlwghjntrvdndfhdwfzbwnmbjlzbhhdqfrdtwcjjvfnjbqdmdwncfhmslflvhqdmrcdrcdrldnqdmhzsvlglgflmlhwjqvfjdmqbmgffvdmmsbrrnrlcsbncvsjffttmhnbpwmqrnvdmzhztbbsrtwgfshjnlvhqvzwpvrmqfbsszswvrglnmwlmcdpjvmqsgnjshspzwrwctwwghmgjvbthcqcrlflsnrnpwvbnghrhvzpzchjlcljplflzqdvglgtvczhnbnlqltblddslqmdpvfbstvszqdsjvgfqlmdgbsnlzlrnbbqqfqjfqhljzlpbbgbnchwljjcpzbhdmwfzmqstcwtvgtvwcpgvmhpsngrshjvzzngbhjqmcfgjjzgdzcsbsvfwmznmwnnvlbntvcmgphqmdfjvhrlldcpwgnmbpjlqflvsrwqphvlpzlsdthfzdzvlphzdbqldvggsgrcmmfmfnjsfszqqbhnmntfgrbfwtlpqgwnrcqdsmqpqbtfdsnhbdcbwcdrhrfgsctrnlchrrnlptbcnqhndcpcdrgtznqrbgjlwzsjhblptncwtqcqcbzccrnjcmfvfnzwlrgdtgcvvcprwvnrrbdjzfnlvlqfpgbpwsvcnmnmmhnshtjgrcnscljwncdjqtwhlhvcggnwbzlzvfqmcdhmzddrdhvnnjbzbtnrgqcbmzhzzfldhlwwsgztfhncgctvjvszdzhrqmzvffmhvsqssjjvrrmtwqswhwjqgbfghbgfmgqssfhbcrglnbstfnqzvwqcznzgtnvjdvhtrlmgthcrqcwbjnzddsqhzwmdwndqcplhvpbpsdthngqwmlfqfndfqbpbwwrvsrnsjbsrwjdjbcqcvdfcsscgblggwggtmbntnbmmswfhvzhltwvprdgvzwltchhzsqlpwdndwftmsgbfwbpmhsdjhwbvvpzlpspsrsnpbwtdspfvdqdjfjbzmmtbnpzrqngccrbfndnjbcjfvwjvfjdvmsqdvgctzvpzmjmjvggpqfmmrsvqbrrlwrmzhmhpcmpltwdbtmwgzrrvsdhvhlwzggjwqzpbzvzrdbptzhzcrrjwjmdwdpsfwfspjgtmfcvddgspldbldtbtwrzdsjrbhvvcjgnrsbzvbrnqjwhrzgfsbdjlfqlszvlnrbfcrgfwrsmqmmnrwbtvfdpjzpfbhplfdsrwwgqqtgnzvddbgjjllmmcjjlglwmsbwrdrnnznwzplnbhlrlnmnllwgwgdpqdqqlmvsbgcshsmntrrlrvdhjgctzsfhmvfqtthvvchftflhlqqhhhbhqvgwtcmgcfwldhgptfddpsqrfzqmtpszswfrztzfsspltcvjwwsljsnjpnnqggscwwmcwfrljlrtqwqvplthsctvbndjfpnvcbdngzqtgjvwlsdhthdwmjvtnzrplwzwsfmgszpqjcjttslsmtbbvhjgpqmqfjbcccsnrlwmjhbsqgzqldmlhnbjnjfwmgzpvdcwndbwcncmtzccngcghhpwmjnncfgqtdtzwmhbdrpwsfbnjzfnwzwqncnlfjqjrjhgnqgvbcdhgdnbwpqjcfgprmfhzlrqtwlqpshfrgdszrwdtqfcntrzbgzlvrhtlsbjjwtnlqllnsvbzwjlmqvdgvtslmbwwcfstmqntwwwsjmrflrqnttfzjchpgwczzdtqbhdrtrpvhhbscvjtdtrhbstpqrnrzszwvcqzhbrzhlblvzrgwtqzbslbmgdqhpfqrdqrzcsbglcsshcwvlcpgjtjmcgpmsnldjzlwnrqlzzznpvmgssvzshjvtsmmzvstpqrhfvttnsrddfcqcbwhgpfdtlhcvcgjgdrvvntvdjqpvwvfmphhpzjgmshddqfsbpjbzrfdjnwrhmgcfbccmzqgvrbmcjdpvwfrtdpbwvjtjcrmnpzrrqbbvbsgcplwmlbsdwptbprlczjcqhdzprpttvnthbmtscdtjvrnwqhnvqbzvwnphnzwlgvvjhddjvjrvwlmhqcsffcnhgjzdjppqqwbglbhgzsmvzwjdvbqpztphshtrbrrhzmdlfdtssbhrcltwlqpzvpgbsgngpfjsjbrnnlzctqcqzwswhfnjjngwsztdgmmcffqfhbsgwstnflqjqttzbtgjvcfrrdwzcvhwjnhmtphszrsptjsqqwcwfnmtlzvzsqsmghtztrpvdslrmjqqvwfmzlwwjbwtpmhtqcfctdztsnfrhfqwqcjdzmjhvwwgrslmdqqwgwfvwlzzsznmdrzgcvbmrtcvjsqlftnpdhwmrzjwsnjjdrczbjcwhwlrtljwjsfmcfcrsjflsldbjrzpdgltmhtszzznjjlfqmgpbjfjncvtvlcfsmltbsvsrgdhwwhcpbdbntqhgjztvlwtwdsgqfwtlcdzffcszjmjvj\n",
      "1109\n"
     ]
    }
   ],
   "source": [
    "with open('day6-input.txt') as f:\n",
    "    datastream = f.readline()\n",
    "    print(datastream)\n",
    "    for processed in range(0, len(datastream) - 3):\n",
    "        if len(set(datastream[processed : processed + 4])) == 4:\n",
    "            print(processed + 4)\n",
    "            break"
   ]
  },
  {
   "cell_type": "code",
   "execution_count": 12,
   "metadata": {},
   "outputs": [
    {
     "name": "stdout",
     "output_type": "stream",
     "text": [
      "mqllsjlslffbqbsbpbcbdbfbfvbfblfltffpddsmmhjmjvmvsmvvjfvfjjfccblbddhrdhrrlcrllrrswwlpwlwwgrglrgllrrlsshffrwfwcffmrrdfdrrncrnnlvllbsbcbwcchsshsrhhbnhbbqbmmmfdfvvqpqlpqppfgpfgpfpfttwrwwwfmfpfpmmpgglwglgfgsfgsggdllfhhmchmhttlhlchhrzrszsqqqzdzrrbbpgpccmfcmcbcdcrdrzzvjjgjfgfqfcqffvbbjbjbjsbjjbhjjzjlzjznzbbjvvpssdfdvffssrffpzfppsddgwgzgccrmrmdrrzpzbbjlbjlbjbgjbjmmtmllqffpjfppzzztfzfzfmfnndmdtmmhgmmsdshdhppbnpnbpnpdndgdbdwdtwwzqqjwjpphnnjddlglzlczzdpdjdjtjtgtqtptrrbqqqspsfswsdwdjdsdcdllpzpqplqqjnjrnnvrrnrccnwnnsttqzqcqppvmvdmdjjpnppljppptpzzwbwrrqgqhghshlslblflhflfbbwhwlhwhbwbdwbdwwzlwzwhzwznwwmmrddlttdrtrsttqbqtqtdqttqwwglwlbbdmbmcbbwbnbtbmbggdqqnhqqptpdtttvcvmvmdmtdttcwclccjcrctcllrprlrqqzqccttgnntstrtqqtfthtghhvcczhhctclljcljlcjcdjcdchhmjmjjrsjszjszsbsqqpfflqffqvfqvqjjnjtthvvvcjcjrcjclcwcrcrjcrchrcrggcjjpjjbwjbwjbwjwsjjrssfggzbgzgzrzmrmwmrrczcppnmnmzzgtglljlhjlhhgzgtgddrrhvvvlhlwhlhzzgzfgzzbvbvrvllplnlqnnfvnvgvdgvddsdqsdscscjjjvrvpptgpgdgtdtdzdtztfzfszfftjftfmftmtftddjzdzssfllfsllpwpwswrwdrwrcclczlclpccdrrftrftrtltftnftfnfrnfrfgfjfttrsrqsshlhdhnnztntwwnwppwbbmrbbtntznzggthghfggttpnpnpbplpvvpmmpwmbgcpwgsfndbrclcwbdcfhlcqblplglnqpnrpjqbddfqlqvbzrtwbwzvwqntcgmzrzztlffzmfmcmfzrmcvfctmlrlbtbpsgddbqrlblsslsbcmcglzdzjzlpgzprbrmfmlzrssqddzfjzfgbpvdgrrnldmtqgtjppqqwtzbltpfgpqtdqpwhbbwblnvvpmnljdghwrbnphswhgcvhpcplbbmwprznzzwnfntfplscpflhwdmlvfwtgrjhchnmnqbfgvsglllnnzwchqtcrvqzzhttcmblcthqrjdbvpwptcqtsnwrnfbbsqlshhtqdvcfcgdlbgzqjvzvglbcdwzpzttjnsvwrdldcqqstnnfnjthncgfvggphgfgstnmvnbmtvhpmsgmrccmmslqmjfzdjnbcjbjnpmsnvmzrphhjrdrrssnclvwbnzvpccqglnpljdtwrlnvpqzlshpcmfnmrjchqvlmthqbdrlnnpwcmfnwfzpbpnrsdmrqgqsjgwttwhgqlwghjntrvdndfhdwfzbwnmbjlzbhhdqfrdtwcjjvfnjbqdmdwncfhmslflvhqdmrcdrcdrldnqdmhzsvlglgflmlhwjqvfjdmqbmgffvdmmsbrrnrlcsbncvsjffttmhnbpwmqrnvdmzhztbbsrtwgfshjnlvhqvzwpvrmqfbsszswvrglnmwlmcdpjvmqsgnjshspzwrwctwwghmgjvbthcqcrlflsnrnpwvbnghrhvzpzchjlcljplflzqdvglgtvczhnbnlqltblddslqmdpvfbstvszqdsjvgfqlmdgbsnlzlrnbbqqfqjfqhljzlpbbgbnchwljjcpzbhdmwfzmqstcwtvgtvwcpgvmhpsngrshjvzzngbhjqmcfgjjzgdzcsbsvfwmznmwnnvlbntvcmgphqmdfjvhrlldcpwgnmbpjlqflvsrwqphvlpzlsdthfzdzvlphzdbqldvggsgrcmmfmfnjsfszqqbhnmntfgrbfwtlpqgwnrcqdsmqpqbtfdsnhbdcbwcdrhrfgsctrnlchrrnlptbcnqhndcpcdrgtznqrbgjlwzsjhblptncwtqcqcbzccrnjcmfvfnzwlrgdtgcvvcprwvnrrbdjzfnlvlqfpgbpwsvcnmnmmhnshtjgrcnscljwncdjqtwhlhvcggnwbzlzvfqmcdhmzddrdhvnnjbzbtnrgqcbmzhzzfldhlwwsgztfhncgctvjvszdzhrqmzvffmhvsqssjjvrrmtwqswhwjqgbfghbgfmgqssfhbcrglnbstfnqzvwqcznzgtnvjdvhtrlmgthcrqcwbjnzddsqhzwmdwndqcplhvpbpsdthngqwmlfqfndfqbpbwwrvsrnsjbsrwjdjbcqcvdfcsscgblggwggtmbntnbmmswfhvzhltwvprdgvzwltchhzsqlpwdndwftmsgbfwbpmhsdjhwbvvpzlpspsrsnpbwtdspfvdqdjfjbzmmtbnpzrqngccrbfndnjbcjfvwjvfjdvmsqdvgctzvpzmjmjvggpqfmmrsvqbrrlwrmzhmhpcmpltwdbtmwgzrrvsdhvhlwzggjwqzpbzvzrdbptzhzcrrjwjmdwdpsfwfspjgtmfcvddgspldbldtbtwrzdsjrbhvvcjgnrsbzvbrnqjwhrzgfsbdjlfqlszvlnrbfcrgfwrsmqmmnrwbtvfdpjzpfbhplfdsrwwgqqtgnzvddbgjjllmmcjjlglwmsbwrdrnnznwzplnbhlrlnmnllwgwgdpqdqqlmvsbgcshsmntrrlrvdhjgctzsfhmvfqtthvvchftflhlqqhhhbhqvgwtcmgcfwldhgptfddpsqrfzqmtpszswfrztzfsspltcvjwwsljsnjpnnqggscwwmcwfrljlrtqwqvplthsctvbndjfpnvcbdngzqtgjvwlsdhthdwmjvtnzrplwzwsfmgszpqjcjttslsmtbbvhjgpqmqfjbcccsnrlwmjhbsqgzqldmlhnbjnjfwmgzpvdcwndbwcncmtzccngcghhpwmjnncfgqtdtzwmhbdrpwsfbnjzfnwzwqncnlfjqjrjhgnqgvbcdhgdnbwpqjcfgprmfhzlrqtwlqpshfrgdszrwdtqfcntrzbgzlvrhtlsbjjwtnlqllnsvbzwjlmqvdgvtslmbwwcfstmqntwwwsjmrflrqnttfzjchpgwczzdtqbhdrtrpvhhbscvjtdtrhbstpqrnrzszwvcqzhbrzhlblvzrgwtqzbslbmgdqhpfqrdqrzcsbglcsshcwvlcpgjtjmcgpmsnldjzlwnrqlzzznpvmgssvzshjvtsmmzvstpqrhfvttnsrddfcqcbwhgpfdtlhcvcgjgdrvvntvdjqpvwvfmphhpzjgmshddqfsbpjbzrfdjnwrhmgcfbccmzqgvrbmcjdpvwfrtdpbwvjtjcrmnpzrrqbbvbsgcplwmlbsdwptbprlczjcqhdzprpttvnthbmtscdtjvrnwqhnvqbzvwnphnzwlgvvjhddjvjrvwlmhqcsffcnhgjzdjppqqwbglbhgzsmvzwjdvbqpztphshtrbrrhzmdlfdtssbhrcltwlqpzvpgbsgngpfjsjbrnnlzctqcqzwswhfnjjngwsztdgmmcffqfhbsgwstnflqjqttzbtgjvcfrrdwzcvhwjnhmtphszrsptjsqqwcwfnmtlzvzsqsmghtztrpvdslrmjqqvwfmzlwwjbwtpmhtqcfctdztsnfrhfqwqcjdzmjhvwwgrslmdqqwgwfvwlzzsznmdrzgcvbmrtcvjsqlftnpdhwmrzjwsnjjdrczbjcwhwlrtljwjsfmcfcrsjflsldbjrzpdgltmhtszzznjjlfqmgpbjfjncvtvlcfsmltbsvsrgdhwwhcpbdbntqhgjztvlwtwdsgqfwtlcdzffcszjmjvj\n",
      "3965\n"
     ]
    }
   ],
   "source": [
    "with open('day6-input.txt') as f:\n",
    "    datastream = f.readline()\n",
    "    print(datastream)\n",
    "    for processed in range(0, len(datastream) - 13):\n",
    "        if len(set(datastream[processed : processed + 14])) == 14:\n",
    "            print(processed + 14)\n",
    "            break"
   ]
  },
  {
   "attachments": {},
   "cell_type": "markdown",
   "metadata": {},
   "source": [
    "# Day 7"
   ]
  },
  {
   "cell_type": "code",
   "execution_count": 13,
   "metadata": {},
   "outputs": [],
   "source": [
    "class Folder:\n",
    "    # Constructor\n",
    "    def __init__(self, name, files, subfolders, parent):\n",
    "        # Create member variables\n",
    "        self.name = name\n",
    "        self.files = files\n",
    "        self.subfolders = subfolders\n",
    "        self.parent = parent\n",
    "        self.size = None\n",
    "\n",
    "    def getSize(self):\n",
    "        currSize = 0\n",
    "        for subfolder in self.subfolders:\n",
    "            subfolderSize = subfolder.size\n",
    "            if subfolderSize is None:\n",
    "                currSize += subfolder.getSize()\n",
    "            else:\n",
    "                currSize += subfolderSize\n",
    "        for file in self.files:\n",
    "            currSize += file[0]\n",
    "        self.size = currSize\n",
    "        return currSize\n",
    "    \n",
    "    def isSmall(self):\n",
    "        if self.size is None:\n",
    "            self.getSize()\n",
    "        return self.size <= 100000"
   ]
  },
  {
   "cell_type": "code",
   "execution_count": 14,
   "metadata": {},
   "outputs": [
    {
     "name": "stdout",
     "output_type": "stream",
     "text": [
      "1391690\n"
     ]
    }
   ],
   "source": [
    "from collections import deque\n",
    "with open('day7-input.txt') as f:\n",
    "    lines = f.readlines()\n",
    "rootFolder = Folder('/', [], [], None)\n",
    "cursor = None\n",
    "for line in lines:\n",
    "    line = line.strip()\n",
    "    if line.startswith('$'):\n",
    "        if line.endswith('ls'):\n",
    "            continue\n",
    "        elif line.endswith('..'):\n",
    "            cursor = cursor.parent\n",
    "        elif '/' in line:\n",
    "            cursor = rootFolder\n",
    "        else:\n",
    "            for subfolder in cursor.subfolders:\n",
    "                if subfolder.name == line[5:]:\n",
    "                    cursor = subfolder\n",
    "    elif line.startswith('dir'):\n",
    "        cursor.subfolders.append(Folder(line[4:], [], [], cursor))\n",
    "    else:\n",
    "        spaceIndex = line.find(' ')\n",
    "        cursor.files.append((int(line[:spaceIndex]), line[spaceIndex + 1:]))\n",
    "# Breadth first traversal\n",
    "res = 0\n",
    "nodeQueue = deque()\n",
    "nodeQueue.append(rootFolder)\n",
    "while nodeQueue:\n",
    "    cursor = nodeQueue.popleft()\n",
    "    if cursor.isSmall():\n",
    "        res += cursor.size\n",
    "    nodeQueue.extend(cursor.subfolders)\n",
    "print(res)"
   ]
  },
  {
   "cell_type": "code",
   "execution_count": 15,
   "metadata": {},
   "outputs": [
    {
     "name": "stdout",
     "output_type": "stream",
     "text": [
      "44795677\n",
      "5469168\n"
     ]
    }
   ],
   "source": [
    "from collections import deque\n",
    "with open('day7-input.txt') as f:\n",
    "    lines = f.readlines()\n",
    "rootFolder = Folder('/', [], [], None)\n",
    "cursor = None\n",
    "for line in lines:\n",
    "    line = line.strip()\n",
    "    if line.startswith('$'):\n",
    "        if line.endswith('ls'):\n",
    "            continue\n",
    "        elif line.endswith('..'):\n",
    "            cursor = cursor.parent\n",
    "        elif '/' in line:\n",
    "            cursor = rootFolder\n",
    "        else:\n",
    "            for subfolder in cursor.subfolders:\n",
    "                if subfolder.name == line[5:]:\n",
    "                    cursor = subfolder\n",
    "    elif line.startswith('dir'):\n",
    "        cursor.subfolders.append(Folder(line[4:], [], [], cursor))\n",
    "    else:\n",
    "        spaceIndex = line.find(' ')\n",
    "        cursor.files.append((int(line[:spaceIndex]), line[spaceIndex + 1:]))\n",
    "# Breadth first traversal\n",
    "print(rootFolder.getSize())\n",
    "minSize = rootFolder.size\n",
    "nodeQueue = deque()\n",
    "nodeQueue.append(rootFolder)\n",
    "while nodeQueue:\n",
    "    cursor = nodeQueue.popleft()\n",
    "    if cursor.size >= (rootFolder.size - 40000000):\n",
    "        minSize = min(minSize, cursor.size)\n",
    "        nodeQueue.extend(cursor.subfolders)\n",
    "print(minSize)"
   ]
  },
  {
   "attachments": {},
   "cell_type": "markdown",
   "metadata": {},
   "source": [
    "# Day 8"
   ]
  },
  {
   "cell_type": "code",
   "execution_count": 16,
   "metadata": {},
   "outputs": [
    {
     "name": "stdout",
     "output_type": "stream",
     "text": [
      "1679\n"
     ]
    }
   ],
   "source": [
    "with open('day8-input.txt') as f:\n",
    "    lines = f.readlines()\n",
    "sideLength = len(lines)\n",
    "numVisible = 4 * sideLength - 4\n",
    "visibleMap = [['' for _ in range(sideLength)] for _ in range(sideLength)]\n",
    "# Top down view\n",
    "for j in range(1, sideLength - 1):\n",
    "    lastHighest = lines[0][j]\n",
    "    for i in range(1, sideLength - 1):\n",
    "        if lines[i][j] > lastHighest:\n",
    "            lastHighest = lines[i][j]\n",
    "            visibleMap[i][j] = 'V'\n",
    "# Bottom view \n",
    "for j in range(1, sideLength - 1):\n",
    "    lastHighest = lines[sideLength - 1][j]\n",
    "    for i in range(sideLength - 2, 0, -1):\n",
    "        if lines[i][j] > lastHighest:\n",
    "            lastHighest = lines[i][j]\n",
    "            visibleMap[i][j] = 'V'\n",
    "# Left view\n",
    "for i in range(1, sideLength - 1):\n",
    "    lastHighest = lines[i][0]\n",
    "    for j in range(1, sideLength - 1):\n",
    "        if lines[i][j] > lastHighest:\n",
    "            lastHighest = lines[i][j]\n",
    "            visibleMap[i][j] = 'V'\n",
    "# Right view\n",
    "for i in range(1, sideLength - 1):\n",
    "    lastHighest = lines[i][sideLength - 1]\n",
    "    for j in range(sideLength - 2, 0, -1):\n",
    "        if lines[i][j] > lastHighest:\n",
    "            lastHighest = lines[i][j]\n",
    "            visibleMap[i][j] = 'V'\n",
    "# Count the rest\n",
    "for i in range(sideLength):\n",
    "    for j in range(sideLength):\n",
    "        if visibleMap[i][j] == 'V':\n",
    "            numVisible += 1\n",
    "print(numVisible)"
   ]
  },
  {
   "cell_type": "code",
   "execution_count": 17,
   "metadata": {},
   "outputs": [
    {
     "name": "stdout",
     "output_type": "stream",
     "text": [
      "536625\n"
     ]
    }
   ],
   "source": [
    "with open('day8-input.txt') as f:\n",
    "    lines = f.readlines()\n",
    "    lines = [line.strip() for line in lines]\n",
    "sideLength = len(lines)\n",
    "\n",
    "def lookDown(row, column):\n",
    "    value = int(lines[row][column])\n",
    "    score = 0\n",
    "    while (row < sideLength - 1):\n",
    "        score, row = score + 1, row + 1\n",
    "        if int(lines[row][column]) >= value:\n",
    "            break\n",
    "        \n",
    "    return score\n",
    "\n",
    "def lookUp(row, column):\n",
    "    value = int(lines[row][column])\n",
    "    score = 0\n",
    "    while (row > 0):\n",
    "        score, row = score + 1, row - 1\n",
    "        if int(lines[row][column]) >= value:\n",
    "            break\n",
    "    return score\n",
    "\n",
    "def lookLeft(row, column):\n",
    "    value = int(lines[row][column])\n",
    "    score = 0\n",
    "    while (column < sideLength - 1):\n",
    "        score, column = score + 1, column + 1\n",
    "        if int(lines[row][column]) >= value:\n",
    "            break\n",
    "    return score\n",
    "\n",
    "def lookRight(row, column):\n",
    "    value = int(lines[row][column])\n",
    "    score = 0\n",
    "    while (column > 0):\n",
    "        score, column = score + 1, column - 1\n",
    "        if int(lines[row][column]) >= value:\n",
    "            break\n",
    "    return score\n",
    "\n",
    "currMax = 0\n",
    "for i in range(1, sideLength - 1):\n",
    "    for j in range(1, sideLength - 1):\n",
    "        currMax = max(currMax, lookDown(i, j) * lookUp(i, j) * lookLeft(i, j) * lookRight(i, j))\n",
    "print(currMax)"
   ]
  },
  {
   "attachments": {},
   "cell_type": "markdown",
   "metadata": {},
   "source": [
    "# Day 9"
   ]
  },
  {
   "cell_type": "code",
   "execution_count": 18,
   "metadata": {},
   "outputs": [],
   "source": [
    "class Knot:\n",
    "    def __init__(self, pos, head, tail):\n",
    "        # pos is (X, Y)\n",
    "        self.pos = pos\n",
    "        self.head = head\n",
    "        self.tail = tail\n",
    "\n",
    "    def catchUp(self):\n",
    "        if abs(self.pos[0] - self.head.pos[0]) > 1:\n",
    "            self.pos = ((self.pos[0] + self.head.pos[0]) // 2, self.head.pos[1])\n",
    "        elif abs(self.pos[1] - self.head.pos[1]) > 1:\n",
    "            self.pos = (self.head.pos[0], (self.pos[1] + self.head.pos[1]) // 2)"
   ]
  },
  {
   "cell_type": "code",
   "execution_count": 19,
   "metadata": {},
   "outputs": [
    {
     "name": "stdout",
     "output_type": "stream",
     "text": [
      "6026\n"
     ]
    }
   ],
   "source": [
    "with open('day9-input.txt') as f:\n",
    "    lines = f.readlines()\n",
    "tail = Knot((0, 0), None, None)\n",
    "head = Knot((0, 0), None, tail)\n",
    "tail.head = head\n",
    "visited = set()\n",
    "visited.add(tail.pos)\n",
    "\n",
    "for line in lines:\n",
    "    line = line.strip()\n",
    "    direction, step = line.split()\n",
    "    step = int(step)\n",
    "    if direction == 'U':\n",
    "        for _ in range(step):\n",
    "            head.pos = (head.pos[0], head.pos[1] + 1)\n",
    "            tail.catchUp()\n",
    "            visited.add(tail.pos)\n",
    "    elif direction == 'D':\n",
    "        for _ in range(step):\n",
    "            head.pos = (head.pos[0], head.pos[1] - 1)\n",
    "            tail.catchUp()\n",
    "            visited.add(tail.pos)\n",
    "    elif direction == 'R':\n",
    "        for _ in range(step):\n",
    "            head.pos = (head.pos[0] + 1, head.pos[1])\n",
    "            tail.catchUp()\n",
    "            visited.add(tail.pos)\n",
    "    else:\n",
    "        for _ in range(step):\n",
    "            head.pos = (head.pos[0] - 1, head.pos[1])\n",
    "            tail.catchUp()\n",
    "            visited.add(tail.pos)\n",
    "print(len(visited))"
   ]
  },
  {
   "cell_type": "code",
   "execution_count": 36,
   "metadata": {},
   "outputs": [
    {
     "name": "stdout",
     "output_type": "stream",
     "text": [
      "2255\n"
     ]
    }
   ],
   "source": [
    "with open('day9-input.txt') as f:\n",
    "    lines = f.readlines()\n",
    "knots = [None for _ in range(10)]\n",
    "knots[0] = Knot((0, 0), None, None)\n",
    "head = knots[0]\n",
    "for i in range(1, 10):\n",
    "    knots[i] = Knot((0, 0), knots[i - 1], None)\n",
    "    knots[i - 1].tail = knots[i]\n",
    "\n",
    "visited = set()\n",
    "visited.add(knots[9].pos)\n",
    "\n",
    "for line in lines:\n",
    "    line = line.strip()\n",
    "    direction, step = line.split()\n",
    "    step = int(step)\n",
    "    if direction == 'U':\n",
    "        for _ in range(step):\n",
    "            head.pos = (head.pos[0], head.pos[1] + 1)\n",
    "            for i in range(1, 10):\n",
    "                knots[i].catchUp()\n",
    "            visited.add(knots[9].pos)\n",
    "    elif direction == 'D':\n",
    "        for _ in range(step):\n",
    "            head.pos = (head.pos[0], head.pos[1] - 1)\n",
    "            for i in range(1, 10):\n",
    "                knots[i].catchUp()\n",
    "            visited.add(knots[9].pos)\n",
    "    elif direction == 'R':\n",
    "        for _ in range(step):\n",
    "            head.pos = (head.pos[0] + 1, head.pos[1])\n",
    "            for i in range(1, 10):\n",
    "                knots[i].catchUp()\n",
    "            visited.add(knots[9].pos)\n",
    "    else:\n",
    "        for _ in range(step):\n",
    "            head.pos = (head.pos[0] - 1, head.pos[1])\n",
    "            for i in range(1, 10):\n",
    "                knots[i].catchUp()\n",
    "            visited.add(knots[9].pos)\n",
    "\n",
    "print(len(visited))"
   ]
  },
  {
   "attachments": {},
   "cell_type": "markdown",
   "metadata": {},
   "source": [
    "# Day 10"
   ]
  },
  {
   "cell_type": "code",
   "execution_count": 21,
   "metadata": {},
   "outputs": [
    {
     "name": "stdout",
     "output_type": "stream",
     "text": [
      "12460\n"
     ]
    }
   ],
   "source": [
    "with open('day10-input.txt') as f:\n",
    "    lines = f.readlines()\n",
    "x, turn = 1, 1\n",
    "bonusTurns = (20, 60, 100, 140, 180, 220)\n",
    "res = 0    \n",
    "\n",
    "for line in lines:\n",
    "    line = line.strip()\n",
    "    if line.startswith('noop'):\n",
    "        turn += 1\n",
    "        res += turn * x * (turn in bonusTurns)\n",
    "    else:\n",
    "        cmd, amount = line.split()\n",
    "        amount = int(amount)\n",
    "        turn += 1\n",
    "        res += turn * x * (turn in bonusTurns)\n",
    "        x, turn = x + amount, turn + 1\n",
    "        res += turn * x * (turn in bonusTurns)\n",
    "print(res)"
   ]
  },
  {
   "cell_type": "code",
   "execution_count": 22,
   "metadata": {},
   "outputs": [
    {
     "name": "stdout",
     "output_type": "stream",
     "text": [
      "####.####.####.###..###...##..#..#.#....\n",
      "#.......#.#....#..#.#..#.#..#.#.#..#....\n",
      "###....#..###..#..#.#..#.#..#.##...#....\n",
      "#.....#...#....###..###..####.#.#..#....\n",
      "#....#....#....#....#.#..#..#.#.#..#....\n",
      "####.####.#....#....#..#.#..#.#..#.####.\n"
     ]
    }
   ],
   "source": [
    "with open('day10-input.txt') as f:\n",
    "    lines = f.readlines()\n",
    "x, turn, cursor = 1, 1, 0\n",
    "drawing = ['X' for _ in range(240)]\n",
    "\n",
    "def draw(cursor, x):\n",
    "    if abs(x - cursor % 40) <= 1:\n",
    "        drawing[cursor] = '#'\n",
    "    else:\n",
    "        drawing[cursor] = '.'\n",
    "\n",
    "for line in lines:\n",
    "    line = line.strip()\n",
    "    if line.startswith('noop'):\n",
    "        draw(cursor, x)\n",
    "        turn, cursor = turn + 1, cursor + 1\n",
    "    else:\n",
    "        cmd, amount = line.split()\n",
    "        amount = int(amount)\n",
    "        draw(cursor, x)\n",
    "        turn, cursor = turn + 1, cursor + 1\n",
    "        draw(cursor, x)\n",
    "        x, turn, cursor = x + amount, turn + 1, cursor + 1\n",
    "print(\"\\n\".join(\"\".join(drawing[i : i + 40]) for i in range(0, 201, 40)))"
   ]
  },
  {
   "attachments": {},
   "cell_type": "markdown",
   "metadata": {},
   "source": [
    "# Day 11"
   ]
  },
  {
   "cell_type": "code",
   "execution_count": 23,
   "metadata": {},
   "outputs": [],
   "source": [
    "class Monkey:\n",
    "    def __init__(self, name, items, operation, test, monkeyTrue, monkeyFalse):\n",
    "        self.name = name\n",
    "        self.items = items\n",
    "        self.operation = operation\n",
    "        self.test = test\n",
    "        self.monkeyTrue = monkeyTrue\n",
    "        self.monkeyFalse = monkeyFalse\n",
    "        self.inspectTimes = 0\n",
    "\n",
    "    def throw(self):\n",
    "        testing = self.items.pop(0)\n",
    "        if self.test(testing):\n",
    "            self.monkeyTrue.items.append(testing)\n",
    "        else:\n",
    "            self.monkeyFalse.items.append(testing)"
   ]
  },
  {
   "cell_type": "code",
   "execution_count": 24,
   "metadata": {},
   "outputs": [],
   "source": [
    "def relief(worryLevel):\n",
    "    return worryLevel // 3"
   ]
  },
  {
   "cell_type": "code",
   "execution_count": 25,
   "metadata": {},
   "outputs": [
    {
     "name": "stdout",
     "output_type": "stream",
     "text": [
      "54036\n"
     ]
    }
   ],
   "source": [
    "with open('day11-input.txt') as f:\n",
    "    lines = f.readlines()\n",
    "monkeyBusiness = 1\n",
    "monkeys = []\n",
    "monkeys.append(Monkey(0, [98, 97, 98, 55, 56, 72], lambda x : x * 13, lambda x : x % 11 == 0, None, None))\n",
    "monkeys.append(Monkey(1, [73, 99, 55, 54, 88, 50, 55], lambda x : x + 4, lambda x : x % 17 == 0, None, None))\n",
    "monkeys.append(Monkey(2, [67, 98], lambda x : x * 11, lambda x : x % 5 == 0, None, None))\n",
    "monkeys.append(Monkey(3, [82, 91, 92, 53, 99], lambda x : x + 8, lambda x : x % 13 == 0, None, None))\n",
    "monkeys.append(Monkey(4, [52, 62, 94, 96, 52, 87, 53, 60], lambda x : x ** 2, lambda x : x % 19 == 0, None, None))\n",
    "monkeys.append(Monkey(5, [94, 80, 84, 79], lambda x : x + 5, lambda x : x % 2 == 0, None, None))\n",
    "monkeys.append(Monkey(6, [89], lambda x : x + 1, lambda x : x % 3 == 0, None, None))\n",
    "monkeys.append(Monkey(7, [70, 59, 63], lambda x : x + 3, lambda x : x % 7 == 0, None, None))\n",
    "\n",
    "monkeys[0].monkeyTrue, monkeys[0].monkeyFalse = monkeys[4], monkeys[7]\n",
    "monkeys[1].monkeyTrue, monkeys[1].monkeyFalse = monkeys[2], monkeys[6]\n",
    "monkeys[2].monkeyTrue, monkeys[2].monkeyFalse = monkeys[6], monkeys[5]\n",
    "monkeys[3].monkeyTrue, monkeys[3].monkeyFalse = monkeys[1], monkeys[2]\n",
    "monkeys[4].monkeyTrue, monkeys[4].monkeyFalse = monkeys[3], monkeys[1]\n",
    "monkeys[5].monkeyTrue, monkeys[5].monkeyFalse = monkeys[7], monkeys[0]\n",
    "monkeys[6].monkeyTrue, monkeys[6].monkeyFalse = monkeys[0], monkeys[5]\n",
    "monkeys[7].monkeyTrue, monkeys[7].monkeyFalse = monkeys[4], monkeys[3]\n",
    "\n",
    "for round in range(1, 21):\n",
    "    for monkey in monkeys:\n",
    "        while monkey.items:\n",
    "            monkey.items[0] = relief(monkey.operation(monkey.items[0]))\n",
    "            monkey.inspectTimes += 1\n",
    "            monkey.throw()\n",
    "\n",
    "inspectTimesAll = [monkey.inspectTimes for monkey in monkeys]\n",
    "maxMonkey = max(inspectTimesAll)\n",
    "inspectTimesAll.remove(maxMonkey)\n",
    "print(maxMonkey * max(inspectTimesAll))"
   ]
  },
  {
   "cell_type": "code",
   "execution_count": 26,
   "metadata": {},
   "outputs": [
    {
     "name": "stdout",
     "output_type": "stream",
     "text": [
      "13237873355\n"
     ]
    }
   ],
   "source": [
    "with open('day11-input.txt') as f:\n",
    "    lines = f.readlines()\n",
    "monkeyBusiness = 1\n",
    "monkeys = []\n",
    "moduloTrickery = 11 * 17 * 5 * 13 * 19 * 2 * 3 * 7\n",
    "monkeys.append(Monkey(0, [98, 97, 98, 55, 56, 72], lambda x : x * 13, lambda x : x % 11 == 0, None, None))\n",
    "monkeys.append(Monkey(1, [73, 99, 55, 54, 88, 50, 55], lambda x : x + 4, lambda x : x % 17 == 0, None, None))\n",
    "monkeys.append(Monkey(2, [67, 98], lambda x : x * 11, lambda x : x % 5 == 0, None, None))\n",
    "monkeys.append(Monkey(3, [82, 91, 92, 53, 99], lambda x : x + 8, lambda x : x % 13 == 0, None, None))\n",
    "monkeys.append(Monkey(4, [52, 62, 94, 96, 52, 87, 53, 60], lambda x : x ** 2, lambda x : x % 19 == 0, None, None))\n",
    "monkeys.append(Monkey(5, [94, 80, 84, 79], lambda x : x + 5, lambda x : x % 2 == 0, None, None))\n",
    "monkeys.append(Monkey(6, [89], lambda x : x + 1, lambda x : x % 3 == 0, None, None))\n",
    "monkeys.append(Monkey(7, [70, 59, 63], lambda x : x + 3, lambda x : x % 7 == 0, None, None))\n",
    "\n",
    "monkeys[0].monkeyTrue, monkeys[0].monkeyFalse = monkeys[4], monkeys[7]\n",
    "monkeys[1].monkeyTrue, monkeys[1].monkeyFalse = monkeys[2], monkeys[6]\n",
    "monkeys[2].monkeyTrue, monkeys[2].monkeyFalse = monkeys[6], monkeys[5]\n",
    "monkeys[3].monkeyTrue, monkeys[3].monkeyFalse = monkeys[1], monkeys[2]\n",
    "monkeys[4].monkeyTrue, monkeys[4].monkeyFalse = monkeys[3], monkeys[1]\n",
    "monkeys[5].monkeyTrue, monkeys[5].monkeyFalse = monkeys[7], monkeys[0]\n",
    "monkeys[6].monkeyTrue, monkeys[6].monkeyFalse = monkeys[0], monkeys[5]\n",
    "monkeys[7].monkeyTrue, monkeys[7].monkeyFalse = monkeys[4], monkeys[3]\n",
    "\n",
    "for round in range(1, 10001):\n",
    "    for monkey in monkeys:\n",
    "        while monkey.items:\n",
    "            # (a mod kn) mod n = a mod n for any integer * k\n",
    "            # So instead of saving a, we only save (a mod kn)\n",
    "            monkey.items[0] = (monkey.operation(monkey.items[0])) % moduloTrickery\n",
    "            monkey.inspectTimes += 1\n",
    "            monkey.throw()\n",
    "\n",
    "inspectTimesAll = [monkey.inspectTimes for monkey in monkeys]\n",
    "maxMonkey = max(inspectTimesAll)\n",
    "inspectTimesAll.remove(maxMonkey)\n",
    "print(maxMonkey * max(inspectTimesAll))"
   ]
  },
  {
   "attachments": {},
   "cell_type": "markdown",
   "metadata": {},
   "source": [
    "# Day 12"
   ]
  },
  {
   "cell_type": "code",
   "execution_count": 27,
   "metadata": {},
   "outputs": [
    {
     "name": "stdout",
     "output_type": "stream",
     "text": [
      "435\n"
     ]
    }
   ],
   "source": [
    "from collections import deque\n",
    "\n",
    "with open('day12-input.txt') as f:\n",
    "    lines = f.readlines()\n",
    "lines = [line.strip() for line in lines]\n",
    "height = len(lines)\n",
    "width = len(lines[0])\n",
    "for i in range(height):\n",
    "    for j in range(width):\n",
    "        if lines[i][j] == 'S':\n",
    "            startPos = (i, j)\n",
    "        elif lines[i][j] == 'E':\n",
    "            endPos = (i, j)\n",
    "# Coordinates are 0-based (y, x)\n",
    "lines = [[*line] for line in lines]\n",
    "lines[startPos[0]][startPos[1]] = 'a'\n",
    "lines[endPos[0]][endPos[1]] = 'z'       \n",
    "\n",
    "def isInBounds(pos):\n",
    "    return pos[0] < height and pos[0] >= 0 and pos[1] < width and pos[1] >= 0\n",
    "\n",
    "def possibleMoves(y, x):\n",
    "    moves = {\n",
    "        'U' : (y - 1, x),\n",
    "        'D' : (y + 1, x),\n",
    "        'L' : (y, x - 1),\n",
    "        'R' : (y, x + 1),\n",
    "    }\n",
    "    return moves\n",
    "\n",
    "from queue import Queue\n",
    "\n",
    "# BFS because we need the shortest path\n",
    "# For each node we need to keep track of its current shortest distance from start\n",
    "nodeQueue = Queue()\n",
    "visited = [[0 for _ in range(width)] for _ in range(height)]\n",
    "visited[startPos[0]][startPos[1]] = 1\n",
    "nodeQueue.put(startPos)\n",
    "cursor = None\n",
    "\n",
    "while nodeQueue.qsize() != 0:\n",
    "    cursor = nodeQueue.get()\n",
    "    currPosVal = ord(lines[cursor[0]][cursor[1]])\n",
    "    if cursor is endPos:\n",
    "        print(stepsToCursor)\n",
    "    stepsToCursor = visited[cursor[0]][cursor[1]]\n",
    "    moves = possibleMoves(cursor[0], cursor[1])\n",
    "    for move in moves.values():\n",
    "        if move and isInBounds(move) and ord(lines[move[0]][move[1]]) - currPosVal <= 1 and visited[move[0]][move[1]] == 0:\n",
    "            visited[move[0]][move[1]] = stepsToCursor + 1\n",
    "            nodeQueue.put(move)\n",
    "\n",
    "print(stepsToCursor)"
   ]
  },
  {
   "attachments": {},
   "cell_type": "markdown",
   "metadata": {},
   "source": [
    "# Day 13"
   ]
  },
  {
   "attachments": {},
   "cell_type": "markdown",
   "metadata": {},
   "source": [
    "# Day 14"
   ]
  },
  {
   "attachments": {},
   "cell_type": "markdown",
   "metadata": {},
   "source": [
    "# Day 15"
   ]
  },
  {
   "attachments": {},
   "cell_type": "markdown",
   "metadata": {},
   "source": [
    "# Day 16"
   ]
  }
 ],
 "metadata": {
  "kernelspec": {
   "display_name": "Python 3.10.6 ('virtualenv': venv)",
   "language": "python",
   "name": "python3"
  },
  "language_info": {
   "codemirror_mode": {
    "name": "ipython",
    "version": 3
   },
   "file_extension": ".py",
   "mimetype": "text/x-python",
   "name": "python",
   "nbconvert_exporter": "python",
   "pygments_lexer": "ipython3",
   "version": "3.10.6"
  },
  "orig_nbformat": 4,
  "vscode": {
   "interpreter": {
    "hash": "87e8a8a6ee61a408620d8fe1e3b8b31ef30b072e2d571e2bcd6e7abc56af6d67"
   }
  }
 },
 "nbformat": 4,
 "nbformat_minor": 2
}
