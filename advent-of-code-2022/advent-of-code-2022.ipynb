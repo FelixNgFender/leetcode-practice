{
 "cells": [
  {
   "cell_type": "markdown",
   "metadata": {},
   "source": [
    "# Day 1"
   ]
  },
  {
   "cell_type": "code",
   "execution_count": 2,
   "metadata": {},
   "outputs": [
    {
     "name": "stdout",
     "output_type": "stream",
     "text": [
      "67027\n"
     ]
    }
   ],
   "source": [
    "with open('day1-input.txt') as f:\n",
    "    lines = f.readlines()\n",
    "    currMax, curr = 0, 0\n",
    "    for line in lines:\n",
    "        if line == '\\n':\n",
    "            curr = 0\n",
    "        else:\n",
    "            curr += int(line)\n",
    "            if curr > currMax:\n",
    "                currMax = curr\n",
    "    print(currMax)"
   ]
  },
  {
   "cell_type": "code",
   "execution_count": 3,
   "metadata": {},
   "outputs": [
    {
     "name": "stdout",
     "output_type": "stream",
     "text": [
      "197291\n"
     ]
    }
   ],
   "source": [
    "import heapq\n",
    "from heapq import heappush, heappop\n",
    "\n",
    "with open('day1-input.txt') as f:\n",
    "    lines = f.readlines()\n",
    "    heap = []\n",
    "    curr = 0\n",
    "    for line in lines:\n",
    "        if line == '\\n':\n",
    "            heappush(heap, -1 * curr)\n",
    "            curr = 0\n",
    "        else:\n",
    "            curr += int(line)\n",
    "    res = 0\n",
    "    for i in range(3):\n",
    "        res += -1 * heappop(heap)\n",
    "    print(res)"
   ]
  },
  {
   "cell_type": "markdown",
   "metadata": {},
   "source": [
    "# Day 2"
   ]
  },
  {
   "cell_type": "code",
   "execution_count": 4,
   "metadata": {},
   "outputs": [
    {
     "name": "stdout",
     "output_type": "stream",
     "text": [
      "13565\n"
     ]
    }
   ],
   "source": [
    "RPSDict = {\n",
    "        'A' : 'R',\n",
    "        'B' : 'P',\n",
    "        'C' : 'S',\n",
    "        'X' : 'R',\n",
    "        'Y' : 'P',\n",
    "        'Z' : 'S',\n",
    "        }\n",
    "\n",
    "def shapeBonus(line):\n",
    "    match line[2]:\n",
    "        case 'X':\n",
    "            return 1\n",
    "        case 'Y':\n",
    "            return 2\n",
    "        case 'Z':\n",
    "            return 3\n",
    "\n",
    "def winBonus(line):    \n",
    "    decoded = decode(line)\n",
    "    if decoded[0] == decoded[2]:\n",
    "        return 3\n",
    "    elif decoded[0] == 'R':\n",
    "        match decoded[2]:\n",
    "            case 'P':\n",
    "                return 6\n",
    "            case 'S':\n",
    "                return 0\n",
    "    elif decoded[0] == 'P':\n",
    "        match decoded[2]:\n",
    "            case 'R':\n",
    "                return 0\n",
    "            case 'S':\n",
    "                return 6\n",
    "    else:\n",
    "        match decoded[2]:\n",
    "            case 'R':\n",
    "                return 6\n",
    "            case 'P':\n",
    "                return 0\n",
    "        \n",
    "def decode(line):\n",
    "    return RPSDict[line[0]] + ' ' + RPSDict[line[2]]\n",
    "\n",
    "with open('day2-input.txt') as f:\n",
    "    lines = f.readlines()\n",
    "    score = 0\n",
    "    for line in lines:\n",
    "        score += winBonus(line) + shapeBonus(line)\n",
    "    print(score)"
   ]
  },
  {
   "cell_type": "code",
   "execution_count": 5,
   "metadata": {},
   "outputs": [
    {
     "name": "stdout",
     "output_type": "stream",
     "text": [
      "12424\n"
     ]
    }
   ],
   "source": [
    "secretDict = {\n",
    "    'X' : 0,\n",
    "    'Y' : 3,\n",
    "    'Z' : 6,\n",
    "}\n",
    "\n",
    "def weaponBonus(opponent, result):\n",
    "    if opponent == 'R':\n",
    "        match result:\n",
    "            case 0:\n",
    "                return 3\n",
    "            case 3:\n",
    "                return 1\n",
    "            case 6:\n",
    "                return 2\n",
    "    elif opponent == 'P':\n",
    "        match result:\n",
    "            case 0:\n",
    "                return 1\n",
    "            case 3:\n",
    "                return 2\n",
    "            case 6:\n",
    "                return 3\n",
    "    else:\n",
    "        match result:\n",
    "            case 0:\n",
    "                return 2\n",
    "            case 3:\n",
    "                return 3\n",
    "            case 6:\n",
    "                return 1\n",
    "             \n",
    "with open('day2-input.txt') as f:\n",
    "    lines = f.readlines()\n",
    "    score = 0\n",
    "    for line in lines:\n",
    "        opponent = RPSDict[line[0]]\n",
    "        result = secretDict[line[2]]\n",
    "        score += weaponBonus(opponent, result) + result\n",
    "    print(score)"
   ]
  },
  {
   "cell_type": "markdown",
   "metadata": {},
   "source": [
    "# Day 3"
   ]
  },
  {
   "cell_type": "code",
   "execution_count": 66,
   "metadata": {},
   "outputs": [
    {
     "name": "stdout",
     "output_type": "stream",
     "text": [
      "8105\n"
     ]
    }
   ],
   "source": [
    "with open('day3-input.txt') as f:\n",
    "    lines = f.readlines()\n",
    "    priorities = [0 for _ in range(52)]\n",
    "    res = 0\n",
    "    for line in lines:\n",
    "        length = len(line)\n",
    "        firstCompartment = line[0 : length//2]\n",
    "        secondCompartment = line[length//2:]\n",
    "        mySet = set([item for item in firstCompartment])\n",
    "        for item in secondCompartment:\n",
    "            if item in mySet:\n",
    "                # ord('A') < ord('a')\n",
    "                if ord(item) >= ord('a'):\n",
    "                    priorities[ord(item) - ord('a')] += 1\n",
    "                else:\n",
    "                    priorities[ord(item) - ord('A') + 26] += 1\n",
    "                break\n",
    "\n",
    "    # Sum of the priorities\n",
    "    for i, e in enumerate(priorities):\n",
    "        if e != 0:\n",
    "            res += (i + 1) * e\n",
    "    print(res)"
   ]
  },
  {
   "cell_type": "code",
   "execution_count": 67,
   "metadata": {},
   "outputs": [
    {
     "name": "stdout",
     "output_type": "stream",
     "text": [
      "2363\n"
     ]
    }
   ],
   "source": [
    "with open('day3-input.txt') as f:\n",
    "    lines = f.readlines()\n",
    "    priorities = [0 for _ in range(52)]\n",
    "    res = 0\n",
    "    for i in range(0, len(lines) - 2, 3):\n",
    "        firstElf = lines[i]\n",
    "        secondElf = lines[i + 1]\n",
    "        thirdElf = lines[i + 2]\n",
    "        myFirstSet = set([item for item in firstElf])\n",
    "        mySecondSet = set([item for item in secondElf])\n",
    "        for item in thirdElf:\n",
    "            if (item in myFirstSet) and (item in mySecondSet):\n",
    "                # ord('A') < ord('a')\n",
    "                if ord(item) >= ord('a'):\n",
    "                    priorities[ord(item) - ord('a')] += 1\n",
    "                else:\n",
    "                    priorities[ord(item) - ord('A') + 26] += 1\n",
    "                break\n",
    "\n",
    "    # Sum of the priorities\n",
    "    for i, e in enumerate(priorities):\n",
    "        if e != 0:\n",
    "            res += (i + 1) * e\n",
    "    print(res)"
   ]
  },
  {
   "cell_type": "markdown",
   "metadata": {},
   "source": [
    "# Day 4"
   ]
  },
  {
   "cell_type": "code",
   "execution_count": 81,
   "metadata": {},
   "outputs": [
    {
     "name": "stdout",
     "output_type": "stream",
     "text": [
      "534\n"
     ]
    }
   ],
   "source": [
    "with open('day4-input.txt') as f:\n",
    "    lines = f.readlines()\n",
    "    count = 0\n",
    "    for line in lines:\n",
    "        firstElf = line[0 : line.find(',')]\n",
    "        secondElf = line[line.find(',') + 1:]\n",
    "        firstLow = int(firstElf[0 : firstElf.find('-')])\n",
    "        firstHigh = int(firstElf[firstElf.find('-') + 1:])\n",
    "        secondLow = int(secondElf[0 : secondElf.find('-')])\n",
    "        secondHigh = int(secondElf[secondElf.find('-') + 1:])\n",
    "        if (firstLow <= secondLow and secondHigh <= firstHigh) or (secondLow <= firstLow and firstHigh <= secondHigh):\n",
    "            count += 1\n",
    "    print(count)"
   ]
  },
  {
   "cell_type": "code",
   "execution_count": 84,
   "metadata": {},
   "outputs": [
    {
     "name": "stdout",
     "output_type": "stream",
     "text": [
      "841\n"
     ]
    }
   ],
   "source": [
    "with open('day4-input.txt') as f:\n",
    "    lines = f.readlines()\n",
    "    count = 0\n",
    "    for line in lines:\n",
    "        firstElf = line[0 : line.find(',')]\n",
    "        secondElf = line[line.find(',') + 1:]\n",
    "        firstLow = int(firstElf[0 : firstElf.find('-')])\n",
    "        firstHigh = int(firstElf[firstElf.find('-') + 1:])\n",
    "        secondLow = int(secondElf[0 : secondElf.find('-')])\n",
    "        secondHigh = int(secondElf[secondElf.find('-') + 1:])\n",
    "        if not (firstHigh < secondLow or secondHigh < firstLow):\n",
    "            count += 1\n",
    "        \n",
    "    print(count)"
   ]
  }
 ],
 "metadata": {
  "kernelspec": {
   "display_name": "Python 3.10.6 ('virtualenv': venv)",
   "language": "python",
   "name": "python3"
  },
  "language_info": {
   "codemirror_mode": {
    "name": "ipython",
    "version": 3
   },
   "file_extension": ".py",
   "mimetype": "text/x-python",
   "name": "python",
   "nbconvert_exporter": "python",
   "pygments_lexer": "ipython3",
   "version": "3.10.6"
  },
  "orig_nbformat": 4,
  "vscode": {
   "interpreter": {
    "hash": "87e8a8a6ee61a408620d8fe1e3b8b31ef30b072e2d571e2bcd6e7abc56af6d67"
   }
  }
 },
 "nbformat": 4,
 "nbformat_minor": 2
}
