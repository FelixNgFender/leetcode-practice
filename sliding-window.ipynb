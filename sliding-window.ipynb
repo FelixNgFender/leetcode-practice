{
 "cells": [
  {
   "attachments": {},
   "cell_type": "markdown",
   "metadata": {},
   "source": [
    "# LC 121: Best Time to Buy and Sell Stock"
   ]
  },
  {
   "cell_type": "code",
   "execution_count": 14,
   "metadata": {},
   "outputs": [
    {
     "name": "stdout",
     "output_type": "stream",
     "text": [
      "5\n",
      "0\n"
     ]
    }
   ],
   "source": [
    "def maxProfit(prices):\n",
    "    \"\"\"\n",
    "    :type prices: List[int]\n",
    "    :rtype: int\n",
    "    \"\"\"\n",
    "    # Naive approach: two pointers, buy low and sell high\n",
    "    l, r = 0, 1\n",
    "    maxProfit = 0\n",
    "    while r < len(prices):\n",
    "        if prices[l] < prices[r]:\n",
    "            maxProfit = max(maxProfit, prices[r] - prices[l])\n",
    "        else:\n",
    "            l = r\n",
    "        r += 1\n",
    "    return maxProfit\n",
    "\n",
    "print(maxProfit([7,1,5,3,6,4]))\n",
    "print(maxProfit([7,6,4,3,1]))"
   ]
  }
 ],
 "metadata": {
  "kernelspec": {
   "display_name": "virtualenv",
   "language": "python",
   "name": "python3"
  },
  "language_info": {
   "codemirror_mode": {
    "name": "ipython",
    "version": 3
   },
   "file_extension": ".py",
   "mimetype": "text/x-python",
   "name": "python",
   "nbconvert_exporter": "python",
   "pygments_lexer": "ipython3",
   "version": "3.10.6"
  },
  "orig_nbformat": 4,
  "vscode": {
   "interpreter": {
    "hash": "87e8a8a6ee61a408620d8fe1e3b8b31ef30b072e2d571e2bcd6e7abc56af6d67"
   }
  }
 },
 "nbformat": 4,
 "nbformat_minor": 2
}
