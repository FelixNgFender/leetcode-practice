{
 "cells": [
  {
   "cell_type": "markdown",
   "metadata": {},
   "source": [
    "# Variables"
   ]
  },
  {
   "cell_type": "code",
   "execution_count": 33,
   "metadata": {},
   "outputs": [
    {
     "name": "stdout",
     "output_type": "stream",
     "text": [
      "n = 0\n",
      "n = abc\n",
      "n = None\n"
     ]
    }
   ],
   "source": [
    "# Variables are dynamically typed, types determined at runtime\n",
    "n = 0\n",
    "print('n =', n)\n",
    "\n",
    "n = \"abc\"\n",
    "print('n =', n)\n",
    "\n",
    "# Multiple assignments\n",
    "n, m = 0, \"abc\"\n",
    "n, m, z = 0.125, \"abc\", False\n",
    "\n",
    "# Increment\n",
    "n = n + 1 # good\n",
    "n += 1    # good\n",
    "#n++       # bad\n",
    "\n",
    "# None is null (absence of value)\n",
    "n = 4\n",
    "n = None\n",
    "print(\"n =\", n)"
   ]
  },
  {
   "cell_type": "markdown",
   "metadata": {},
   "source": [
    "# If-Statements"
   ]
  },
  {
   "cell_type": "code",
   "execution_count": 34,
   "metadata": {},
   "outputs": [],
   "source": [
    "# If statements don't need parentheses \n",
    "# or curly braces.\n",
    "n = 1\n",
    "if n > 2:\n",
    "    n -= 1\n",
    "elif n == 2:\n",
    "    n *= 2\n",
    "else:\n",
    "    n += 2\n",
    "\n",
    "# Parentheses needed for multi-line conditions.\n",
    "# and = &&\n",
    "# or  = ||\n",
    "n, m = 1, 2\n",
    "if ((n > 2 and \n",
    "    n != m) or n == m):\n",
    "    n += 1"
   ]
  },
  {
   "cell_type": "markdown",
   "metadata": {},
   "source": [
    "# Loops"
   ]
  },
  {
   "cell_type": "code",
   "execution_count": 35,
   "metadata": {},
   "outputs": [
    {
     "name": "stdout",
     "output_type": "stream",
     "text": [
      "0\n",
      "1\n",
      "2\n",
      "3\n",
      "4\n",
      "0\n",
      "1\n",
      "2\n",
      "3\n",
      "4\n",
      "2\n",
      "3\n",
      "4\n",
      "5\n",
      "5\n",
      "4\n",
      "3\n",
      "2\n"
     ]
    }
   ],
   "source": [
    "n = 0\n",
    "while n < 5:\n",
    "    print(n)\n",
    "    n += 1\n",
    "\n",
    "# Looping from i = 0 to i = 4\n",
    "for i in range(5):\n",
    "    print(i)\n",
    "\n",
    "# Looping from i = 2 to i = 5\n",
    "for i in range(2, 6):\n",
    "    print(i)\n",
    "\n",
    "# Looping from i = 5 to i = 2\n",
    "for i in range(5, 1, -1):\n",
    "    print(i)"
   ]
  },
  {
   "cell_type": "markdown",
   "metadata": {},
   "source": [
    "# Math"
   ]
  },
  {
   "cell_type": "code",
   "execution_count": 36,
   "metadata": {},
   "outputs": [
    {
     "name": "stdout",
     "output_type": "stream",
     "text": [
      "2.5\n",
      "2\n",
      "-2\n",
      "-1\n",
      "1\n",
      "2\n",
      "-1.0\n",
      "1\n",
      "2\n",
      "1.4142135623730951\n",
      "8.0\n",
      "1.6069380442589903e+60\n",
      "True\n"
     ]
    }
   ],
   "source": [
    "# Division is decimal by default\n",
    "print(5 / 2)\n",
    "\n",
    "# Double slash floor division\n",
    "print(5 // 2)\n",
    "\n",
    "# CAREFUL: most languages round towards 0 by default\n",
    "# In the other hand, Python will round down\n",
    "print(-3 // 2)\n",
    "\n",
    "# A workaround for rounding towards zero\n",
    "# is to use decimal division and then convert to int.\n",
    "print(int(-3 / 2))\n",
    "\n",
    "# Modding is similar to most languages\n",
    "print(10 % 3)\n",
    "\n",
    "# Except for negative values\n",
    "print(-10 % 3)\n",
    "\n",
    "# To be consistent with other languages modulo\n",
    "import math\n",
    "from multiprocessing import heap\n",
    "print(math.fmod(-10, 3))\n",
    "\n",
    "# More math helpers\n",
    "print(math.floor(3 / 2))\n",
    "print(math.ceil(3 / 2))\n",
    "print(math.sqrt(2))\n",
    "print(math.pow(2, 3))\n",
    "\n",
    "# Max / Min Int\n",
    "float(\"inf\")\n",
    "float(\"-inf\")\n",
    "\n",
    "# Python numbers are infinite so they never overflow\n",
    "print(math.pow(2, 200))\n",
    "\n",
    "# But still less than infinity\n",
    "print(math.pow(2, 200) < float(\"inf\"))"
   ]
  },
  {
   "cell_type": "markdown",
   "metadata": {},
   "source": [
    "# Arrays"
   ]
  },
  {
   "cell_type": "code",
   "execution_count": 37,
   "metadata": {},
   "outputs": [
    {
     "name": "stdout",
     "output_type": "stream",
     "text": [
      "[1, 2, 3]\n",
      "[1, 2, 3, 4, 5]\n",
      "[1, 2, 3, 4]\n",
      "[1, 7, 2, 3, 4]\n",
      "[0, 7, 2, 0, 4]\n",
      "[1, 1, 1, 1, 1]\n",
      "5\n",
      "3\n",
      "2\n",
      "[2, 3]\n",
      "[1, 2, 3, 4]\n",
      "[1, 2, 3, 4]\n",
      "1 2 3\n",
      "1\n",
      "2\n",
      "3\n",
      "1\n",
      "2\n",
      "3\n",
      "0 1\n",
      "1 2\n",
      "2 3\n",
      "1 2\n",
      "3 4\n",
      "5 6\n",
      "[3, 2, 1]\n",
      "[3, 4, 5, 7, 8]\n",
      "[8, 7, 5, 4, 3]\n",
      "['alice', 'bob', 'doe', 'jane']\n",
      "['bob', 'doe', 'jane', 'alice']\n",
      "[0, 1, 2, 3, 4]\n",
      "[[0, 0, 0, 0], [0, 0, 0, 0], [0, 0, 0, 0], [0, 0, 0, 0]]\n",
      "[[5, 0, 0, 0], [0, 0, 0, 0], [0, 0, 0, 0], [0, 0, 0, 0]]\n",
      "[[5, 0, 0, 0], [5, 0, 0, 0], [5, 0, 0, 0], [5, 0, 0, 0]]\n"
     ]
    }
   ],
   "source": [
    "# Arrays (called lists in python)\n",
    "arr = [1, 2, 3]\n",
    "print(arr)\n",
    "\n",
    "# Can be used as a stack\n",
    "arr.append(4) # O(1)\n",
    "arr.append(5)\n",
    "print(arr)\n",
    "\n",
    "arr.pop() # O(1)\n",
    "print(arr)\n",
    "\n",
    "arr.insert(1, 7) # O(n)\n",
    "print(arr)\n",
    "\n",
    "arr[0] = 0 # O(1)\n",
    "arr[3] = 0\n",
    "print(arr)\n",
    "\n",
    "# Initialize arr of size n with default value of 1\n",
    "n = 5\n",
    "arr = [1] * n\n",
    "print(arr)\n",
    "print(len(arr))\n",
    "\n",
    "# Careful: -1 is not out of bounds, it's the last value\n",
    "arr = [1, 2, 3]\n",
    "print(arr[-1])\n",
    "\n",
    "# Indexing -2 is the second to last value, etc.\n",
    "print(arr[-2])\n",
    "\n",
    "# Sublists (aka slicing)\n",
    "arr = [1, 2, 3, 4]\n",
    "print(arr[1:3])\n",
    "\n",
    "# Similar to for-loop ranges, last index is non-inclusive\n",
    "print(arr[0:4])\n",
    "\n",
    "# But no out of bounds error\n",
    "print(arr[0:10])\n",
    "\n",
    "# Unpacking\n",
    "a, b, c = [1, 2, 3]\n",
    "print(a, b, c)\n",
    "\n",
    "# Be careful though, this throws an error\n",
    "#a, b = [1, 2, 3]\n",
    "\n",
    "# Looping through arrays\n",
    "nums = [1, 2, 3]\n",
    "\n",
    "# Using index\n",
    "for i in range(len(nums)):\n",
    "    print(nums[i])\n",
    "\n",
    "# Without index\n",
    "for n in nums:\n",
    "    print(n)\n",
    "\n",
    "# With index and value\n",
    "for i, n in enumerate(nums):\n",
    "    print(i, n)\n",
    "\n",
    "# Loop through multiple arrays simultaneously with unpacking\n",
    "nums1 = [1, 3, 5]\n",
    "nums2 = [2, 4, 6]\n",
    "# zip returns an array of tuples, which then get unpacked onto \n",
    "# n1 and n2\n",
    "for n1, n2 in zip(nums1, nums2):\n",
    "    print(n1, n2)\n",
    "\n",
    "# Reverse\n",
    "nums = [1, 2, 3]\n",
    "nums.reverse()\n",
    "print(nums)\n",
    "\n",
    "\n",
    "# Sorting\n",
    "arr = [5, 4, 7, 3, 8]\n",
    "arr.sort()\n",
    "print(arr)\n",
    "\n",
    "arr.sort(reverse=True)\n",
    "print(arr)\n",
    "\n",
    "arr = [\"bob\", \"alice\", \"jane\", \"doe\"]\n",
    "arr.sort()\n",
    "print(arr)\n",
    "\n",
    "# Custom sort (by length of string)\n",
    "arr.sort(key=lambda x: len(x))\n",
    "print(arr)\n",
    "\n",
    "# List comprehension\n",
    "arr = [i for i in range(5)]\n",
    "print(arr)\n",
    "\n",
    "# 2-D lists\n",
    "arr = [[0] * 4 for i in range(4)]\n",
    "print(arr)\n",
    "arr[0][0] = 5\n",
    "arr\n",
    "print(arr)\n",
    "\n",
    "# This won't work as you expect it to due to same reference\n",
    "arr = [[0] * 4] * 4\n",
    "arr[0][0] = 5\n",
    "arr\n",
    "print(arr)"
   ]
  },
  {
   "cell_type": "markdown",
   "metadata": {},
   "source": [
    "# Strings"
   ]
  },
  {
   "cell_type": "code",
   "execution_count": 38,
   "metadata": {},
   "outputs": [
    {
     "name": "stdout",
     "output_type": "stream",
     "text": [
      "ab\n",
      "abcdef\n",
      "246\n",
      "123123\n",
      "97\n",
      "98\n",
      "abcdef\n"
     ]
    }
   ],
   "source": [
    "# Strings are similar to arrays\n",
    "s = \"abc\"\n",
    "print(s[0:2])\n",
    "\n",
    "# But they are immutable, this won't work\n",
    "#s[0] = \"A\"\n",
    "\n",
    "# This creates a new string\n",
    "s += \"def\"\n",
    "print(s)\n",
    "\n",
    "# Anytime you modify a string, O(n) operation\n",
    "\n",
    "# Valid numeric strings can be converted\n",
    "print(int(\"123\") + int(\"123\"))\n",
    "\n",
    "# And numbers can be converted to strings\n",
    "print(str(123) + str(123))\n",
    "\n",
    "# In rare cases you may need the ASCII value of a char\n",
    "print(ord(\"a\"))\n",
    "print(ord(\"b\"))\n",
    "\n",
    "# Combine a list of strings (with an empty string delimiter)\n",
    "strings = [\"ab\", \"cd\", \"ef\"]\n",
    "print(\"\".join(strings))"
   ]
  },
  {
   "cell_type": "markdown",
   "metadata": {},
   "source": [
    "# Queues"
   ]
  },
  {
   "cell_type": "code",
   "execution_count": 39,
   "metadata": {},
   "outputs": [
    {
     "name": "stdout",
     "output_type": "stream",
     "text": [
      "deque([1, 2])\n",
      "deque([2])\n",
      "deque([1, 2])\n",
      "deque([1])\n"
     ]
    }
   ],
   "source": [
    "# Queues (double ended queue)\n",
    "from collections import deque\n",
    "\n",
    "queue = deque()\n",
    "queue.append(1)\n",
    "queue.append(2)\n",
    "print(queue)\n",
    "\n",
    "queue.popleft()\n",
    "print(queue)\n",
    "\n",
    "queue.appendleft(1)\n",
    "print(queue)\n",
    "\n",
    "queue.pop()\n",
    "print(queue)"
   ]
  },
  {
   "cell_type": "markdown",
   "metadata": {},
   "source": [
    "# HashSets"
   ]
  },
  {
   "cell_type": "code",
   "execution_count": 46,
   "metadata": {},
   "outputs": [
    {
     "name": "stdout",
     "output_type": "stream",
     "text": [
      "{1, 2}\n",
      "2\n",
      "True\n",
      "True\n",
      "False\n",
      "False\n",
      "{1, 2, 3}\n",
      "{0, 1, 2, 3, 4}\n"
     ]
    }
   ],
   "source": [
    "# HashSet\n",
    "mySet = set()\n",
    "\n",
    "mySet.add(1)\n",
    "mySet.add(2)\n",
    "print(mySet)\n",
    "print(len(mySet))\n",
    "\n",
    "print(1 in mySet)\n",
    "print(2 in mySet)\n",
    "print(3 in mySet)\n",
    "\n",
    "mySet.remove(2)\n",
    "print(2 in mySet)\n",
    "\n",
    "# list to set\n",
    "print(set([1, 2, 3]))\n",
    "\n",
    "# Set comprehension\n",
    "mySet = { i for i in range(5) }\n",
    "print(mySet)"
   ]
  },
  {
   "cell_type": "markdown",
   "metadata": {},
   "source": [
    "# HashMaps"
   ]
  },
  {
   "cell_type": "code",
   "execution_count": 40,
   "metadata": {},
   "outputs": [
    {
     "name": "stdout",
     "output_type": "stream",
     "text": [
      "{'alice': 88, 'bob': 77}\n",
      "2\n",
      "80\n",
      "True\n",
      "False\n",
      "{'alice': 90, 'bob': 70}\n",
      "{0: 0, 1: 2, 2: 4}\n",
      "alice 90\n",
      "bob 70\n",
      "90\n",
      "70\n",
      "alice 90\n",
      "bob 70\n"
     ]
    }
   ],
   "source": [
    "# HashMap (aka dict)\n",
    "myMap = {}\n",
    "myMap[\"alice\"] = 88\n",
    "myMap[\"bob\"] = 77\n",
    "print(myMap)\n",
    "\n",
    "print(len(myMap))\n",
    "\n",
    "myMap[\"alice\"] = 80\n",
    "print(myMap[\"alice\"])\n",
    "\n",
    "print(\"alice\" in myMap)\n",
    "\n",
    "myMap.pop(\"alice\")\n",
    "print(\"alice\" in myMap)\n",
    "\n",
    "myMap = { \"alice\": 90, \"bob\": 70 }\n",
    "print(myMap)\n",
    "\n",
    "# Dict comprehension\n",
    "myMap = { i: 2*i for i in range(3) }\n",
    "print(myMap)\n",
    "\n",
    "# Looping through maps\n",
    "myMap = { \"alice\": 90, \"bob\": 70 }\n",
    "for key in myMap:\n",
    "    print(key, myMap[key])\n",
    "\n",
    "for val in myMap.values():\n",
    "    print(val)\n",
    "\n",
    "for key, val in myMap.items():\n",
    "    print(key, val)"
   ]
  },
  {
   "cell_type": "markdown",
   "metadata": {},
   "source": [
    "# Tuples"
   ]
  },
  {
   "cell_type": "code",
   "execution_count": 42,
   "metadata": {},
   "outputs": [
    {
     "name": "stdout",
     "output_type": "stream",
     "text": [
      "(1, 2, 3)\n",
      "1\n",
      "3\n",
      "3\n",
      "True\n"
     ]
    }
   ],
   "source": [
    "# Tuples are like arrays but immutable\n",
    "tup = (1, 2, 3)\n",
    "print(tup)\n",
    "\n",
    "print(tup[0])\n",
    "\n",
    "print(tup[-1])\n",
    "\n",
    "# Can't modify, this won't work\n",
    "#tup[0] = 0\n",
    "\n",
    "# Can be used as key for hash map/set\n",
    "myMap = { (1,2): 3 }\n",
    "print(myMap[(1,2)])\n",
    "\n",
    "mySet = set()\n",
    "mySet.add((1, 2))\n",
    "print((1, 2) in mySet)\n",
    "\n",
    "# Lists can't be keys\n",
    "#myMap[[3, 4]] = 5"
   ]
  },
  {
   "cell_type": "markdown",
   "metadata": {},
   "source": [
    "# Heaps"
   ]
  },
  {
   "cell_type": "code",
   "execution_count": 43,
   "metadata": {},
   "outputs": [
    {
     "name": "stdout",
     "output_type": "stream",
     "text": [
      "2\n",
      "2\n",
      "3\n",
      "4\n",
      "4\n",
      "4\n",
      "3\n",
      "2\n",
      "1\n",
      "2\n",
      "4\n",
      "5\n",
      "8\n"
     ]
    }
   ],
   "source": [
    "import heapq\n",
    "\n",
    "# under the hood are arrays\n",
    "minHeap = []\n",
    "heapq.heappush(minHeap, 3)\n",
    "heapq.heappush(minHeap, 2)\n",
    "heapq.heappush(minHeap, 4)\n",
    "\n",
    "# Min is always at index 0\n",
    "print(minHeap[0])\n",
    "\n",
    "while len(minHeap):\n",
    "    print(heapq.heappop(minHeap))\n",
    "\n",
    "# No max heaps by default, work around is\n",
    "# to use min heap and multiply by -1 when push & pop.\n",
    "maxHeap = []\n",
    "heapq.heappush(maxHeap, -3)\n",
    "heapq.heappush(maxHeap, -2)\n",
    "heapq.heappush(maxHeap, -4)\n",
    "\n",
    "# Max is always at index 0\n",
    "print(-1 * maxHeap[0])\n",
    "\n",
    "while len(maxHeap):\n",
    "    print(-1 * heapq.heappop(maxHeap))\n",
    "\n",
    "# Build heap from initial values\n",
    "arr = [2, 1, 8, 4, 5]\n",
    "heapq.heapify(arr)\n",
    "while arr:\n",
    "    print(heapq.heappop(arr))"
   ]
  },
  {
   "cell_type": "markdown",
   "metadata": {},
   "source": [
    "# Functions"
   ]
  },
  {
   "cell_type": "code",
   "execution_count": 44,
   "metadata": {},
   "outputs": [
    {
     "name": "stdout",
     "output_type": "stream",
     "text": [
      "12\n",
      "abc\n",
      "[2, 4] 6\n"
     ]
    }
   ],
   "source": [
    "def myFunc(n, m):\n",
    "    return n * m\n",
    "\n",
    "print(myFunc(3, 4))\n",
    "\n",
    "# Nested functions have access to outer variables\n",
    "def outer(a, b):\n",
    "    c = \"c\"\n",
    "\n",
    "    def inner():\n",
    "        return a + b + c\n",
    "    return inner()\n",
    "\n",
    "print(outer(\"a\", \"b\"))\n",
    "\n",
    "# Can modify objects but not reassign\n",
    "# unless using nonlocal keyword\n",
    "def double(arr, val):\n",
    "    def helper():\n",
    "        # Modifying array works\n",
    "        for i, n in enumerate(arr):\n",
    "            arr[i] *= 2\n",
    "        \n",
    "        # will only modify val in the helper scope\n",
    "        # val *= 2\n",
    "\n",
    "        # this will modify val outside helper scope\n",
    "        nonlocal val\n",
    "        val *= 2\n",
    "    helper()\n",
    "    print(arr, val)\n",
    "\n",
    "nums = [1, 2]\n",
    "val = 3\n",
    "double(nums, val)"
   ]
  },
  {
   "cell_type": "markdown",
   "metadata": {},
   "source": [
    "# Classes"
   ]
  },
  {
   "cell_type": "code",
   "execution_count": 45,
   "metadata": {},
   "outputs": [
    {
     "name": "stdout",
     "output_type": "stream",
     "text": [
      "3\n",
      "6\n"
     ]
    }
   ],
   "source": [
    "class MyClass:\n",
    "    # Constructor\n",
    "    def __init__(self, nums):\n",
    "        # Create member variables\n",
    "        self.nums = nums\n",
    "        self.size = len(nums)\n",
    "    \n",
    "    # self key word required as param\n",
    "    def getLength(self):\n",
    "        return self.size\n",
    "\n",
    "    def getDoubleLength(self):\n",
    "        return 2 * self.getLength()\n",
    "\n",
    "myObj = MyClass([1, 2, 3])\n",
    "print(myObj.getLength())\n",
    "print(myObj.getDoubleLength())"
   ]
  }
 ],
 "metadata": {
  "kernelspec": {
   "display_name": "Python 3.10.6 64-bit",
   "language": "python",
   "name": "python3"
  },
  "language_info": {
   "codemirror_mode": {
    "name": "ipython",
    "version": 3
   },
   "file_extension": ".py",
   "mimetype": "text/x-python",
   "name": "python",
   "nbconvert_exporter": "python",
   "pygments_lexer": "ipython3",
   "version": "3.10.6"
  },
  "orig_nbformat": 4,
  "vscode": {
   "interpreter": {
    "hash": "a966c27b3d680403ea4acd6dd7a09b1d0efcb58eb4fa7c4710983a6bd2e79ef0"
   }
  }
 },
 "nbformat": 4,
 "nbformat_minor": 2
}
